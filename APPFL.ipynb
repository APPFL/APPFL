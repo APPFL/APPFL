{
 "cells": [
  {
   "cell_type": "code",
   "execution_count": null,
   "id": "de0ef5dc-9539-4d03-bc81-c67dbd124f73",
   "metadata": {},
   "outputs": [],
   "source": [
    "# First need to setup config\n",
    "# Below code is for FABlib libaray importing\n",
    "from fabrictestbed_extensions.fablib.fablib import FablibManager as fablib_manager\n",
    "\n",
    "fablib = fablib_manager()\n",
    "\n",
    "fablib.show_config();"
   ]
  },
  {
   "cell_type": "code",
   "execution_count": null,
   "id": "40d869ae-d170-46f0-8923-c337a47299ed",
   "metadata": {},
   "outputs": [],
   "source": [
    "fablib.validate_config()"
   ]
  },
  {
   "cell_type": "code",
   "execution_count": null,
   "id": "d9b31990-c11d-480d-9343-12c9bd393b6a",
   "metadata": {},
   "outputs": [],
   "source": [
    "fablib.save_config()"
   ]
  },
  {
   "cell_type": "code",
   "execution_count": null,
   "id": "a3592c6e-2cbf-46b8-ac30-fafd4cfcd344",
   "metadata": {},
   "outputs": [],
   "source": [
    "# Create Node with GPU\n",
    "# pick which GPU type we will use (execute this cell). \n",
    "\n",
    "# choices include\n",
    "# GPU_RTX6000\n",
    "# GPU_TeslaT4\n",
    "# GPU_A30\n",
    "# GPU_A40\n",
    "GPU_CHOICE = 'GPU_RTX6000' \n",
    "\n",
    "# don't edit - convert from GPU type to a resource column name\n",
    "# to use in filter lambda function below\n",
    "choice_to_column = {\n",
    "    \"GPU_RTX6000\": \"rtx6000_available\",\n",
    "    \"GPU_TeslaT4\": \"tesla_t4_available\",\n",
    "    \"GPU_A30\": \"a30_available\",\n",
    "    \"GPU_A40\": \"a40_available\"\n",
    "}\n",
    "\n",
    "column_name = choice_to_column.get(GPU_CHOICE, \"Unknown\")\n",
    "print(f'{column_name=}')"
   ]
  },
  {
   "cell_type": "code",
   "execution_count": null,
   "id": "f0ebfc31-c899-4996-ae66-d2654b80392a",
   "metadata": {},
   "outputs": [],
   "source": [
    "# name the slice and the node \n",
    "slice_name=f'My Simple GPU Slice with {GPU_CHOICE}'\n",
    "node_name='gpu-node'\n",
    "\n",
    "print(f'Will create slice \"{slice_name}\" with node \"{node_name}\"')"
   ]
  },
  {
   "cell_type": "code",
   "execution_count": null,
   "id": "9f88744b-dd52-419b-a41d-ae890a59bdfb",
   "metadata": {},
   "outputs": [],
   "source": [
    "# find a site with at least one available GPU of the selected type\n",
    "site_override = None\n",
    "\n",
    "if site_override:\n",
    "    site = site_override\n",
    "else:\n",
    "    site = fablib.get_random_site(filter_function=lambda x: x[column_name] > 0)\n",
    "print(f'Preparing to create slice \"{slice_name}\" with node {node_name} in site {site}')"
   ]
  },
  {
   "cell_type": "code",
   "execution_count": null,
   "id": "b77db5e7-4d1e-44eb-9e7b-7e23453876f6",
   "metadata": {},
   "outputs": [],
   "source": [
    "# Create Slice. Note that by default submit() call will poll for 360 seconds every 10-20 seconds\n",
    "# waiting for slice to come up. Normal expected time is around 2 minutes. \n",
    "slice = fablib.new_slice(name=slice_name)\n",
    "\n",
    "# Add node with a 100G drive and a couple of CPU cores (default)\n",
    "node = slice.add_node(name=node_name, site=site, disk=100, image='default_ubuntu_22')\n",
    "node.add_component(model=GPU_CHOICE, name='gpu1')\n",
    "\n",
    "#Submit Slice Request\n",
    "slice.submit();\n",
    "\n",
    "# If the state shows StableOK in the output, it means that setup is done \n",
    "# and you can use SSH Command below to connect the node."
   ]
  },
  {
   "cell_type": "code",
   "execution_count": null,
   "id": "e5034479-8bb0-4e57-8a8f-d45c4b1e3f25",
   "metadata": {},
   "outputs": [],
   "source": [
    "slice = fablib.get_slice(name=slice_name)\n",
    "slice.show();"
   ]
  },
  {
   "cell_type": "code",
   "execution_count": null,
   "id": "74098041-3f4f-4929-afe4-315f50e8f1a3",
   "metadata": {},
   "outputs": [],
   "source": [
    "node = slice.get_node(node_name) \n",
    "node.show()\n",
    "\n",
    "gpu = node.get_component('gpu1')\n",
    "gpu.show();"
   ]
  },
  {
   "cell_type": "code",
   "execution_count": null,
   "id": "14b0ebdd-700d-4b65-9245-93af50d94d26",
   "metadata": {},
   "outputs": [],
   "source": [
    "command = \"sudo apt-get install -y pciutils && lspci | grep 'NVIDIA\\|3D controller'\"\n",
    "\n",
    "stdout, stderr = node.execute(command)"
   ]
  },
  {
   "cell_type": "code",
   "execution_count": null,
   "id": "15250831-4914-4edc-9d8b-6a2a68902500",
   "metadata": {},
   "outputs": [],
   "source": [
    "distro='ubuntu2204'\n",
    "version='12.2'\n",
    "architecture='x86_64'\n",
    "\n",
    "# install prerequisites\n",
    "commands = [\n",
    "    'sudo apt-get -q update',\n",
    "    'sudo apt-get -q install -y linux-headers-$(uname -r) gcc',\n",
    "]\n",
    "\n",
    "print(\"Installing Prerequisites...\")\n",
    "for command in commands:\n",
    "    print(f\"++++ {command}\")\n",
    "    stdout, stderr = node.execute(command)\n",
    "\n",
    "print(f\"Installing CUDA {version}\")\n",
    "commands = [\n",
    "    f'wget https://developer.download.nvidia.com/compute/cuda/repos/{distro}/{architecture}/cuda-keyring_1.1-1_all.deb',\n",
    "    f'sudo dpkg -i cuda-keyring_1.1-1_all.deb',\n",
    "    'sudo apt-get -q update',\n",
    "    'sudo apt-get -q install -y cuda'\n",
    "]\n",
    "print(\"Installing CUDA...\")\n",
    "for command in commands:\n",
    "    print(f\"++++ {command}\")\n",
    "    stdout, stderr = node.execute(command)\n",
    "    \n",
    "print(\"Done installing CUDA\")"
   ]
  },
  {
   "cell_type": "code",
   "execution_count": null,
   "id": "8c951659-8cc4-4536-bb57-b05ddf580949",
   "metadata": {},
   "outputs": [],
   "source": [
    "reboot = 'sudo reboot'\n",
    "\n",
    "print(reboot)\n",
    "node.execute(reboot)\n",
    "\n",
    "slice.wait_ssh(timeout=360,interval=10,progress=True)\n",
    "\n",
    "print(\"Now testing SSH abilites to reconnect...\",end=\"\")\n",
    "slice.update()\n",
    "slice.test_ssh()\n",
    "print(\"Reconnected!\")"
   ]
  },
  {
   "cell_type": "code",
   "execution_count": null,
   "id": "f07f7d73-4635-4761-8917-80b370daf8d1",
   "metadata": {},
   "outputs": [],
   "source": [
    "# Check if you have setup nvidia driver successfully\n",
    "stdout, stderr = node.execute(\"nvidia-smi\")\n",
    "\n",
    "print(f\"stdout: {stdout}\")"
   ]
  },
  {
   "cell_type": "code",
   "execution_count": null,
   "id": "683642f3-3e30-47b5-90a9-c1e3e7dbb0a0",
   "metadata": {},
   "outputs": [],
   "source": [
    "# Check your python version.\n",
    "stdout, stderr = node.execute(\"python3 -V\")\n",
    "\n",
    "print(f\"stdout: {stdout}\")"
   ]
  },
  {
   "cell_type": "code",
   "execution_count": null,
   "id": "139da170-40e2-4450-8145-6f9195dcc1a8",
   "metadata": {},
   "outputs": [],
   "source": [
    "# sudo apt install python3-pip\n",
    "commands = [\n",
    "    'sudo apt update -y',\n",
    "    'sudo apt-get -y install python3-pip',\n",
    "    'sudo apt install -y mpich',\n",
    "    'sudo apt install -y libopenmpi-dev',\n",
    "    'sudo pip3 install -y mpi4py'\n",
    "]\n",
    "\n",
    "print(\"Installing mpi4py\")\n",
    "for command in commands:\n",
    "    print(f\"++++ {command}\")\n",
    "    stdout, stderr = node.execute(command)"
   ]
  },
  {
   "cell_type": "code",
   "execution_count": null,
   "id": "052fe197-d63c-4d1c-8eac-6e07c355dbd4",
   "metadata": {},
   "outputs": [],
   "source": [
    "distro='ubuntu2204'\n",
    "version='12.2'\n",
    "architecture='x86_64'\n",
    "\n",
    "# install prerequisites\n",
    "commands = [\n",
    "    'pip install pip --upgrade',\n",
    "    'pip install -y \"appfl[analytics,examples]\"',\n",
    "]\n",
    "\n",
    "print(\"Installing APPFL for User\")\n",
    "for command in commands:\n",
    "    print(f\"++++ {command}\")\n",
    "    stdout, stderr = node.execute(command)\n"
   ]
  },
  {
   "cell_type": "code",
   "execution_count": null,
   "id": "d9241c3c-471c-4c3f-83bf-f669a013fcb9",
   "metadata": {},
   "outputs": [],
   "source": [
    "# Be careful\n",
    "# Delete Slice after the experiment\n",
    "fablib.delete_slice(slice_name)"
   ]
  }
 ],
 "metadata": {
  "kernelspec": {
   "display_name": "Python 3 (ipykernel)",
   "language": "python",
   "name": "python3"
  },
  "language_info": {
   "codemirror_mode": {
    "name": "ipython",
    "version": 3
   },
   "file_extension": ".py",
   "mimetype": "text/x-python",
   "name": "python",
   "nbconvert_exporter": "python",
   "pygments_lexer": "ipython3",
   "version": "3.10.6"
  }
 },
 "nbformat": 4,
 "nbformat_minor": 5
}

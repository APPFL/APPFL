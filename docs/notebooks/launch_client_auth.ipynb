{
 "cells": [
  {
   "cell_type": "markdown",
   "metadata": {},
   "source": [
    "# FL Client over Secure RPC\n",
    "\n",
    "In this notebook, we will present how to launch a gRPC client as an FL client with an authenticator. To pair with the server notebook, we consider only one client."
   ]
  },
  {
   "cell_type": "code",
   "execution_count": 1,
   "metadata": {},
   "outputs": [],
   "source": [
    "num_clients = 1"
   ]
  },
  {
   "cell_type": "markdown",
   "metadata": {},
   "source": [
    "## Load client configurations\n",
    "\n",
    "We load the configuration for the client from `examples/configs/mnist/client_1.yaml`"
   ]
  },
  {
   "cell_type": "code",
   "execution_count": 2,
   "metadata": {},
   "outputs": [
    {
     "name": "stdout",
     "output_type": "stream",
     "text": [
      "train_configs:\n",
      "  device: cpu\n",
      "  logging_id: Client1\n",
      "  logging_output_dirname: ./output\n",
      "  logging_output_filename: result\n",
      "data_configs:\n",
      "  dataset_path: ./dataset/mnist_dataset.py\n",
      "  dataset_name: get_mnist\n",
      "  dataset_kwargs:\n",
      "    num_clients: 2\n",
      "    client_id: 0\n",
      "    partition_strategy: class_noniid\n",
      "    visualization: true\n",
      "    output_dirname: ./output\n",
      "    output_filename: visualization.pdf\n",
      "comm_configs:\n",
      "  grpc_configs:\n",
      "    server_uri: localhost:50051\n",
      "    max_message_size: 1048576\n",
      "    use_ssl: false\n",
      "\n"
     ]
    }
   ],
   "source": [
    "from omegaconf import OmegaConf\n",
    "client_config_file = \"../../examples/configs/mnist/client_1.yaml\"\n",
    "client_config = OmegaConf.load(client_config_file)\n",
    "print(OmegaConf.to_yaml(client_config))"
   ]
  },
  {
   "cell_type": "markdown",
   "metadata": {},
   "source": [
    "💡 We need to change the relative path in `data_configs.dataset_path` to point to the right file relative to this notebook.\n",
    "\n",
    "💡 We also need to change `data_configs.dataset_kwargs.num_clients` to 1 to make sure we only partition the MNIST dataset to one client split. We change `data_configs.dataset_kwargs.visualizaton` to False as well."
   ]
  },
  {
   "cell_type": "code",
   "execution_count": 3,
   "metadata": {},
   "outputs": [],
   "source": [
    "client_config.data_configs.dataset_path = '../../examples/dataset/mnist_dataset.py'\n",
    "client_config.data_configs.dataset_kwargs.num_clients = num_clients\n",
    "client_config.data_configs.dataset_kwargs.visualization = False"
   ]
  },
  {
   "cell_type": "markdown",
   "metadata": {},
   "source": [
    "## Create secure SSL channel and authenticator\n",
    "\n",
    "The client requires a root certificate to verify the server certificate. In this example, we provide that [root certificate](../../src/appfl/comm/grpc/credentials/root.crt), assuming that the server uses self-signed [certificate](../../src/appfl/comm/grpc/credentials/localhost.crt) and [key](../../src/appfl/comm/grpc/credentials/localhost.key) provided by gRPC official documentation.\n",
    "\n",
    "To use the provided root certificate, user just to need to set the following. If the user would like to use his own root certificate, just change this to the file path to the local root certificate."
   ]
  },
  {
   "cell_type": "code",
   "execution_count": 4,
   "metadata": {},
   "outputs": [],
   "source": [
    "client_config.comm_configs.grpc_configs.use_ssl = True\n",
    "client_config.comm_configs.grpc_configs.root_certificate = \"../../src/appfl/comm/grpc/credentials/root.crt\""
   ]
  },
  {
   "cell_type": "markdown",
   "metadata": {},
   "source": [
    "We also need to set configurations to use the naive authenticator and provide the `auth_token` agreed with the server for authentication."
   ]
  },
  {
   "cell_type": "code",
   "execution_count": 5,
   "metadata": {},
   "outputs": [],
   "source": [
    "client_config.comm_configs.grpc_configs.use_authenticator = True\n",
    "client_config.comm_configs.grpc_configs.authenticator = \"NaiveAuthenticator\"\n",
    "client_config.comm_configs.grpc_configs.authenticator_args = {\"auth_token\": \"A_SECRET_DEMO_TOKEN\"}"
   ]
  },
  {
   "cell_type": "markdown",
   "metadata": {},
   "source": [
    "## Create the client agent and communicator\n",
    "\n",
    "Now we are ready to create the client agent using the `client_agent` defined and modified abouve, as well as a `GRPCClientCommunicator` to send request to the server.\n",
    "\n",
    "⚠️ Please make sure that you have started the server from the other notebook!"
   ]
  },
  {
   "cell_type": "code",
   "execution_count": 6,
   "metadata": {},
   "outputs": [
    {
     "name": "stderr",
     "output_type": "stream",
     "text": [
      "[2024-04-24 14:46:18,397 INFO Client1]: Logging to ./output/result_Client1_2024-04-24 14:46:18.txt\n"
     ]
    }
   ],
   "source": [
    "from appfl.agent import ClientAgent\n",
    "from appfl.communicator.grpc import GRPCClientCommunicator\n",
    "client_agent = ClientAgent(client_agent_config=client_config)\n",
    "client_communicator = GRPCClientCommunicator(\n",
    "    client_id = client_agent.get_id(),\n",
    "    **client_config.comm_configs.grpc_configs,\n",
    ")"
   ]
  },
  {
   "cell_type": "markdown",
   "metadata": {},
   "source": [
    "## Start the FL experiment\n",
    "\n",
    "Client start the FL experiment by doing the following things:\n",
    "\n",
    "- Obtain general client-side configurations from the server and load them\n",
    "- Obtain the initial global model from the server\n",
    "- *[Optional]* Send the number of local data to the server\n",
    "- Iteratively train the model and update the global model until receiving a `DONE` status flag from the server.\n",
    "\n",
    "💡 The server is also logging several information regarding the recipe of client requests."
   ]
  },
  {
   "cell_type": "code",
   "execution_count": 7,
   "metadata": {},
   "outputs": [
    {
     "name": "stderr",
     "output_type": "stream",
     "text": [
      "[2024-04-24 14:46:31,588 INFO Client1]:      Round   Pre Val?       Time Train Loss Train Accuracy   Val Loss Val Accuracy\n",
      "[2024-04-24 14:46:32,804 INFO Client1]:          0          Y                                          2.3021       8.4700\n",
      "[2024-04-24 14:46:36,573 INFO Client1]:          0          N     3.7683     0.0661        79.7188     0.2003      93.7200\n",
      "[2024-04-24 14:46:37,813 INFO Client1]:          1          Y                                          0.2003      93.7200\n",
      "[2024-04-24 14:46:41,588 INFO Client1]:          1          N     3.7746     0.0195        94.4844     0.1124      96.4600\n",
      "[2024-04-24 14:46:42,855 INFO Client1]:          2          Y                                          0.1124      96.4600\n",
      "[2024-04-24 14:46:46,659 INFO Client1]:          2          N     3.8032     0.0138        95.9375     0.0996      96.8400\n",
      "[2024-04-24 14:46:47,895 INFO Client1]:          3          Y                                          0.0996      96.8400\n",
      "[2024-04-24 14:46:51,660 INFO Client1]:          3          N     3.7642     0.0102        97.1250     0.0788      97.5300\n",
      "[2024-04-24 14:46:52,913 INFO Client1]:          4          Y                                          0.0788      97.5300\n",
      "[2024-04-24 14:46:56,579 INFO Client1]:          4          N     3.6659     0.0093        97.3594     0.0710      97.8500\n",
      "[2024-04-24 14:46:57,855 INFO Client1]:          5          Y                                          0.0710      97.8500\n",
      "[2024-04-24 14:47:01,668 INFO Client1]:          5          N     3.8131     0.0080        97.6562     0.0589      98.3000\n",
      "[2024-04-24 14:47:02,912 INFO Client1]:          6          Y                                          0.0589      98.3000\n",
      "[2024-04-24 14:47:06,650 INFO Client1]:          6          N     3.7377     0.0078        97.6875     0.0421      98.6200\n",
      "[2024-04-24 14:47:07,927 INFO Client1]:          7          Y                                          0.0421      98.6200\n",
      "[2024-04-24 14:47:11,702 INFO Client1]:          7          N     3.7729     0.0061        98.1875     0.0424      98.5700\n",
      "[2024-04-24 14:47:12,945 INFO Client1]:          8          Y                                          0.0424      98.5700\n",
      "[2024-04-24 14:47:16,654 INFO Client1]:          8          N     3.7081     0.0048        98.3906     0.0534      98.2100\n",
      "[2024-04-24 14:47:17,927 INFO Client1]:          9          Y                                          0.0534      98.2100\n",
      "[2024-04-24 14:47:21,732 INFO Client1]:          9          N     3.8050     0.0054        98.5625     0.0502      98.1600\n"
     ]
    }
   ],
   "source": [
    "# Obtain general client-side configurations from the server and load them\n",
    "client_config = client_communicator.get_configuration()\n",
    "client_agent.load_config(client_config)\n",
    "\n",
    "# Obtain the initial global model from the server\n",
    "init_global_model = client_communicator.get_global_model(init_model=True)\n",
    "client_agent.load_parameters(init_global_model)\n",
    "\n",
    "# Send the number of local data to the server\n",
    "sample_size = client_agent.get_sample_size()\n",
    "client_communicator.invoke_custom_action(action='set_sample_size', sample_size=sample_size)\n",
    "\n",
    "while True:\n",
    "    client_agent.train()\n",
    "    local_model = client_agent.get_parameters()\n",
    "    new_global_model, metadata = client_communicator.update_global_model(local_model)\n",
    "    if metadata['status'] == 'DONE':\n",
    "        break\n",
    "    client_agent.load_parameters(new_global_model)"
   ]
  }
 ],
 "metadata": {
  "interpreter": {
   "hash": "d5a3775820edfef7d27663833b7a57b274657051daef716a62aaac9a7002010d"
  },
  "kernelspec": {
   "display_name": "Python 3.8.12 64-bit ('appfl-dev': conda)",
   "language": "python",
   "name": "python3"
  },
  "language_info": {
   "codemirror_mode": {
    "name": "ipython",
    "version": 3
   },
   "file_extension": ".py",
   "mimetype": "text/x-python",
   "name": "python",
   "nbconvert_exporter": "python",
   "pygments_lexer": "ipython3",
   "version": "3.9.13"
  },
  "orig_nbformat": 4
 },
 "nbformat": 4,
 "nbformat_minor": 2
}

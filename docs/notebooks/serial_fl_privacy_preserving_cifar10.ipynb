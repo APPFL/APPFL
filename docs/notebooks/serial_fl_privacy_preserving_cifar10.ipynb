{
 "cells": [
  {
   "cell_type": "markdown",
   "metadata": {},
   "source": [
    "## Privacy Preserving Federated Learning on CIFAR-10 using Opacus"
   ]
  },
  {
   "cell_type": "code",
   "execution_count": null,
   "metadata": {
    "id": "6yBJqLc2ov_Z"
   },
   "outputs": [],
   "source": [
    "num_clients = 10"
   ]
  },
  {
   "cell_type": "code",
   "execution_count": null,
   "metadata": {
    "id": "CFD4VyXTP4uW"
   },
   "outputs": [],
   "source": [
    "from omegaconf import OmegaConf\n",
    "\n",
    "server_config_file = (\n",
    "    \"../../examples/resources/configs/cifar10/server_fedavg_opacus.yaml\"\n",
    ")\n",
    "server_config = OmegaConf.load(server_config_file)\n",
    "print(OmegaConf.to_yaml(server_config))"
   ]
  },
  {
   "cell_type": "code",
   "execution_count": null,
   "metadata": {
    "id": "Z6MpnwsAQBuY"
   },
   "outputs": [],
   "source": [
    "server_config.client_configs.train_configs.loss_fn_path = (\n",
    "    \"../../examples/resources/loss/celoss.py\"\n",
    ")\n",
    "server_config.client_configs.train_configs.metric_path = (\n",
    "    \"../../examples/resources/metric/acc.py\"\n",
    ")\n",
    "server_config.client_configs.model_configs.model_path = \"\"\n",
    "\n",
    "if server_config.client_configs.train_configs[\"use_dp\"] and (\n",
    "    server_config.client_configs.train_configs[\"dp_mechanism\"] == \"opacus\"\n",
    "):\n",
    "    server_config.client_configs.model_configs.model_path = (\n",
    "        \"../../examples/resources/model/resnet_opacus.py\"\n",
    "    )\n",
    "else:\n",
    "    server_config.client_configs.model_configs.model_path = (\n",
    "        \"../../examples/resources/model/resnet.py\"\n",
    "    )\n",
    "\n",
    "server_config.server_configs.num_global_epochs = 3\n",
    "server_config.server_configs.num_clients = num_clients"
   ]
  },
  {
   "cell_type": "code",
   "execution_count": null,
   "metadata": {
    "id": "yPYckLohQKIa"
   },
   "outputs": [],
   "source": [
    "client_config_file = \"../../examples/resources/configs/cifar10/client_1.yaml\"\n",
    "client_config = OmegaConf.load(client_config_file)\n",
    "print(OmegaConf.to_yaml(client_config))"
   ]
  },
  {
   "cell_type": "code",
   "execution_count": null,
   "metadata": {
    "id": "ypPYMceKQQae"
   },
   "outputs": [],
   "source": [
    "import copy\n",
    "\n",
    "client_configs = [copy.deepcopy(client_config) for _ in range(num_clients)]\n",
    "for i in range(num_clients):\n",
    "    client_configs[i].client_id = f\"Client{i + 1}\"\n",
    "    client_configs[\n",
    "        i\n",
    "    ].data_configs.dataset_path = \"../../examples/resources/dataset/cifar10_dataset.py\"\n",
    "    client_configs[i].data_configs.dataset_kwargs.num_clients = num_clients\n",
    "    client_configs[i].data_configs.dataset_kwargs.client_id = i\n",
    "    client_configs[i].data_configs.dataset_kwargs.visualization = (\n",
    "        True if i == 0 else False\n",
    "    )"
   ]
  },
  {
   "cell_type": "code",
   "execution_count": null,
   "metadata": {
    "id": "0ViCZ7rpQanV"
   },
   "outputs": [],
   "source": [
    "from appfl.agent import ServerAgent, ClientAgent\n",
    "\n",
    "server_agent = ServerAgent(server_agent_config=server_config)\n",
    "client_agents = [\n",
    "    ClientAgent(client_agent_config=client_configs[i]) for i in range(num_clients)\n",
    "]"
   ]
  },
  {
   "cell_type": "code",
   "execution_count": null,
   "metadata": {
    "id": "g2pZn6SDQiS_"
   },
   "outputs": [],
   "source": [
    "# Get additional client configurations from the server\n",
    "client_config_from_server = server_agent.get_client_configs()\n",
    "for client_agent in client_agents:\n",
    "    client_agent.load_config(client_config_from_server)"
   ]
  },
  {
   "cell_type": "code",
   "execution_count": null,
   "metadata": {
    "id": "tDdurRczQte4"
   },
   "outputs": [],
   "source": [
    "# Load initial global model from the server\n",
    "init_global_model = server_agent.get_parameters(serial_run=True)\n",
    "for client_agent in client_agents:\n",
    "    client_agent.load_parameters(init_global_model)"
   ]
  },
  {
   "cell_type": "code",
   "execution_count": null,
   "metadata": {
    "id": "N3E7wPVQQvo6"
   },
   "outputs": [],
   "source": [
    "# [Optional] Set number of local data to the server\n",
    "for i in range(num_clients):\n",
    "    sample_size = client_agents[i].get_sample_size()\n",
    "    server_agent.set_sample_size(\n",
    "        client_id=client_agents[i].get_id(), sample_size=sample_size\n",
    "    )"
   ]
  },
  {
   "cell_type": "code",
   "execution_count": null,
   "metadata": {
    "id": "sLKW6dMuQyQX"
   },
   "outputs": [],
   "source": [
    "while not server_agent.training_finished():\n",
    "    new_global_models = []\n",
    "    for client_agent in client_agents:\n",
    "        # Client local training\n",
    "        client_agent.train()\n",
    "        local_model = client_agent.get_parameters()\n",
    "        if isinstance(local_model, tuple):\n",
    "            local_model, metadata = local_model[0], local_model[1]\n",
    "        else:\n",
    "            metadata = {}\n",
    "        # \"Send\" local model to server and get a Future object for the new global model\n",
    "        # The Future object will be resolved when the server receives local models from all clients\n",
    "        new_global_model_future = server_agent.global_update(\n",
    "            client_id=client_agent.get_id(),\n",
    "            local_model=local_model,\n",
    "            blocking=False,\n",
    "            **metadata,\n",
    "        )\n",
    "        new_global_models.append(new_global_model_future)\n",
    "    # Load the new global model from the server\n",
    "    for client_agent, new_global_model_future in zip(client_agents, new_global_models):\n",
    "        client_agent.load_parameters(new_global_model_future.result())"
   ]
  }
 ],
 "metadata": {
  "colab": {
   "provenance": []
  },
  "kernelspec": {
   "display_name": "appfl",
   "language": "python",
   "name": "python3"
  },
  "language_info": {
   "name": "python",
   "version": "3.10.14"
  }
 },
 "nbformat": 4,
 "nbformat_minor": 0
}

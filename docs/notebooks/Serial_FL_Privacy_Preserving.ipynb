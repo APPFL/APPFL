{
  "nbformat": 4,
  "nbformat_minor": 0,
  "metadata": {
    "colab": {
      "provenance": []
    },
    "kernelspec": {
      "name": "python3",
      "display_name": "Python 3"
    },
    "language_info": {
      "name": "python"
    }
  },
  "cells": [
    {
      "cell_type": "code",
      "execution_count": null,
      "metadata": {
        "id": "6yBJqLc2ov_Z"
      },
      "outputs": [],
      "source": [
        "num_clients = 10"
      ]
    },
    {
      "cell_type": "code",
      "source": [
        "from omegaconf import OmegaConf\n",
        "\n",
        "server_config_file = \"../../examples/resources/configs/cifar10/server_fedavg.yaml\"\n",
        "server_config = OmegaConf.load(server_config_file)\n",
        "print(OmegaConf.to_yaml(server_config))"
      ],
      "metadata": {
        "id": "CFD4VyXTP4uW"
      },
      "execution_count": null,
      "outputs": []
    },
    {
      "cell_type": "code",
      "source": [
        "server_config.client_configs.train_configs.loss_fn_path = (\n",
        "    \"../../examples/resources/loss/celoss.py\"\n",
        ")\n",
        "server_config.client_configs.train_configs.metric_path = (\n",
        "    \"../../examples/resources/metric/acc.py\"\n",
        ")\n",
        "server_config.client_configs.model_configs.model_path = \"\"\n",
        "\n",
        "if server_config.client_configs.train_configs[\"use_dp\"] and (server_config.client_configs.train_configs[\"dp_mechanism\"] == \"opacus\"):\n",
        "    server_config.client_configs.model_configs.model_path = \"../../examples/resources/model/resnet_opacus.py\"\n",
        "else:\n",
        "    server_config.client_configs.model_configs.model_path = \"../../examples/resources/model/resnet.py\"\n",
        "\n",
        "server_config.server_configs.num_global_epochs = 3\n",
        "server_config.server_configs.num_clients = num_clients"
      ],
      "metadata": {
        "id": "Z6MpnwsAQBuY"
      },
      "execution_count": null,
      "outputs": []
    },
    {
      "cell_type": "code",
      "source": [
        "client_config_file = \"../../examples/resources/configs/cifar10/client_1.yaml\"\n",
        "client_config = OmegaConf.load(client_config_file)\n",
        "print(OmegaConf.to_yaml(client_config))"
      ],
      "metadata": {
        "id": "yPYckLohQKIa"
      },
      "execution_count": null,
      "outputs": []
    },
    {
      "cell_type": "code",
      "source": [
        "import copy\n",
        "\n",
        "client_configs = [copy.deepcopy(client_config) for _ in range(num_clients)]\n",
        "for i in range(num_clients):\n",
        "    client_configs[i].client_id = f\"Client{i + 1}\"\n",
        "    client_configs[\n",
        "        i\n",
        "    ].data_configs.dataset_path = \"../../examples/resources/dataset/cifar10_dataset.py\"\n",
        "    client_configs[i].data_configs.dataset_kwargs.num_clients = num_clients\n",
        "    client_configs[i].data_configs.dataset_kwargs.client_id = i\n",
        "    client_configs[i].data_configs.dataset_kwargs.visualization = (\n",
        "        True if i == 0 else False\n",
        "    )"
      ],
      "metadata": {
        "id": "ypPYMceKQQae"
      },
      "execution_count": null,
      "outputs": []
    },
    {
      "cell_type": "code",
      "source": [
        "from appfl.agent import ServerAgent, ClientAgent\n",
        "\n",
        "server_agent = ServerAgent(server_agent_config=server_config)\n",
        "client_agents = [\n",
        "    ClientAgent(client_agent_config=client_configs[i]) for i in range(num_clients)\n",
        "]"
      ],
      "metadata": {
        "id": "0ViCZ7rpQanV"
      },
      "execution_count": null,
      "outputs": []
    },
    {
      "cell_type": "code",
      "source": [
        "# Get additional client configurations from the server\n",
        "client_config_from_server = server_agent.get_client_configs()\n",
        "for client_agent in client_agents:\n",
        "    client_agent.load_config(client_config_from_server)"
      ],
      "metadata": {
        "id": "g2pZn6SDQiS_"
      },
      "execution_count": null,
      "outputs": []
    },
    {
      "cell_type": "code",
      "source": [
        "# Load initial global model from the server\n",
        "init_global_model = server_agent.get_parameters(serial_run=True)\n",
        "for client_agent in client_agents:\n",
        "    client_agent.load_parameters(init_global_model)"
      ],
      "metadata": {
        "id": "tDdurRczQte4"
      },
      "execution_count": null,
      "outputs": []
    },
    {
      "cell_type": "code",
      "source": [
        "# [Optional] Set number of local data to the server\n",
        "for i in range(num_clients):\n",
        "    sample_size = client_agents[i].get_sample_size()\n",
        "    server_agent.set_sample_size(\n",
        "        client_id=client_agents[i].get_id(), sample_size=sample_size\n",
        "    )"
      ],
      "metadata": {
        "id": "N3E7wPVQQvo6"
      },
      "execution_count": null,
      "outputs": []
    },
    {
      "cell_type": "code",
      "source": [
        "while not server_agent.training_finished():\n",
        "    new_global_models = []\n",
        "    for client_agent in client_agents:\n",
        "        # Client local training\n",
        "        client_agent.train()\n",
        "        local_model = client_agent.get_parameters()\n",
        "        if isinstance(local_model, tuple):\n",
        "            local_model, metadata = local_model[0], local_model[1]\n",
        "        else:\n",
        "            metadata = {}\n",
        "        # \"Send\" local model to server and get a Future object for the new global model\n",
        "        # The Future object will be resolved when the server receives local models from all clients\n",
        "        new_global_model_future = server_agent.global_update(\n",
        "            client_id=client_agent.get_id(),\n",
        "            local_model=local_model,\n",
        "            blocking=False,\n",
        "            **metadata,\n",
        "        )\n",
        "        new_global_models.append(new_global_model_future)\n",
        "    # Load the new global model from the server\n",
        "    for client_agent, new_global_model_future in zip(client_agents, new_global_models):\n",
        "        client_agent.load_parameters(new_global_model_future.result())"
      ],
      "metadata": {
        "id": "sLKW6dMuQyQX"
      },
      "execution_count": null,
      "outputs": []
    }
  ]
}
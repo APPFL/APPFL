{
 "cells": [
  {
   "cell_type": "markdown",
   "metadata": {},
   "source": [
    "# Serial FL Simulation\n",
    "In this notebook, we are going to show how to simulate an FL experiment on a single machine by having each client running serially. It should be noted that only simulating synchronous FL algorithms makes sense when the experiments running serially. We use 10 clients running serially in this example."
   ]
  },
  {
   "cell_type": "code",
   "execution_count": 1,
   "metadata": {},
   "outputs": [],
   "source": [
    "num_clients = 10"
   ]
  },
  {
   "cell_type": "markdown",
   "metadata": {},
   "source": [
    "## Load server configurations\n",
    "In the example, we are going to use the `FedAvg` server aggregation algorithm and the MNIST dataset by loading the server configurations from `examples/resources/configs/mnist/server_fedavg.yaml`."
   ]
  },
  {
   "cell_type": "code",
   "execution_count": 2,
   "metadata": {},
   "outputs": [
    {
     "name": "stdout",
     "output_type": "stream",
     "text": [
      "client_configs:\n",
      "  train_configs:\n",
      "    trainer: NaiveTrainer\n",
      "    mode: step\n",
      "    num_local_steps: 100\n",
      "    optim: Adam\n",
      "    optim_args:\n",
      "      lr: 0.001\n",
      "    loss_fn_path: ./resources/loss/celoss.py\n",
      "    loss_fn_name: CELoss\n",
      "    do_validation: true\n",
      "    do_pre_validation: true\n",
      "    metric_path: ./resources/metric/acc.py\n",
      "    metric_name: accuracy\n",
      "    use_dp: false\n",
      "    epsilon: 1\n",
      "    clip_grad: false\n",
      "    clip_value: 1\n",
      "    clip_norm: 1\n",
      "    train_batch_size: 64\n",
      "    val_batch_size: 64\n",
      "    train_data_shuffle: true\n",
      "    val_data_shuffle: false\n",
      "  model_configs:\n",
      "    model_path: ./resources/model/cnn.py\n",
      "    model_name: CNN\n",
      "    model_kwargs:\n",
      "      num_channel: 1\n",
      "      num_classes: 10\n",
      "      num_pixel: 28\n",
      "  comm_configs:\n",
      "    compressor_configs:\n",
      "      enable_compression: true\n",
      "      lossy_compressor: SZ2Compressor\n",
      "      lossless_compressor: blosc\n",
      "      error_bounding_mode: REL\n",
      "      error_bound: 0.001\n",
      "      param_cutoff: 1024\n",
      "server_configs:\n",
      "  scheduler: SyncScheduler\n",
      "  scheduler_kwargs:\n",
      "    num_clients: 2\n",
      "    same_init_model: true\n",
      "  aggregator: FedAvgAggregator\n",
      "  aggregator_kwargs:\n",
      "    client_weights_mode: equal\n",
      "  device: cpu\n",
      "  num_global_epochs: 3\n",
      "  logging_output_dirname: ./output\n",
      "  logging_output_filename: result\n",
      "  comm_configs:\n",
      "    grpc_configs:\n",
      "      server_uri: localhost:50051\n",
      "      max_message_size: 1048576\n",
      "      use_ssl: false\n",
      "\n"
     ]
    }
   ],
   "source": [
    "from omegaconf import OmegaConf\n",
    "server_config_file = \"../../examples/resources/configs/mnist/server_fedavg.yaml\"\n",
    "server_config = OmegaConf.load(server_config_file)\n",
    "print(OmegaConf.to_yaml(server_config))"
   ]
  },
  {
   "cell_type": "markdown",
   "metadata": {},
   "source": [
    "💡 It should be noted that configuration fields such as `loss_fn_path`, `metric_path`, and `model_path` are the paths to the corresponding files, so we need to change their relative paths now to make sure the paths point to the right files. \n",
    "\n",
    "💡 We also change the `num_global_epochs` from 10 to 5.\n",
    "\n",
    "⚠️ We also need change `num_clients` in `server_configs.scheduler_kwargs` to 10."
   ]
  },
  {
   "cell_type": "code",
   "execution_count": 3,
   "metadata": {},
   "outputs": [],
   "source": [
    "server_config.client_configs.train_configs.loss_fn_path = '../../examples/resources/loss/celoss.py'\n",
    "server_config.client_configs.train_configs.metric_path = '../../examples/resources/metric/acc.py'\n",
    "server_config.client_configs.model_configs.model_path = '../../examples/resources/model/cnn.py'\n",
    "server_config.server_configs.num_global_epochs = 5\n",
    "server_config.server_configs.scheduler_kwargs.num_clients = num_clients"
   ]
  },
  {
   "cell_type": "markdown",
   "metadata": {},
   "source": [
    "## Load client configurations\n",
    "In this example, we suppose that `num_clients=10` and load the basic configurations for all the clients from `examples/configs/mnist/client_1.yaml`. Let's first take a look at this basic configuration."
   ]
  },
  {
   "cell_type": "code",
   "execution_count": 4,
   "metadata": {},
   "outputs": [
    {
     "name": "stdout",
     "output_type": "stream",
     "text": [
      "train_configs:\n",
      "  device: cpu\n",
      "  logging_id: Client1\n",
      "  logging_output_dirname: ./output\n",
      "  logging_output_filename: result\n",
      "data_configs:\n",
      "  dataset_path: ./resources/dataset/mnist_dataset.py\n",
      "  dataset_name: get_mnist\n",
      "  dataset_kwargs:\n",
      "    num_clients: 2\n",
      "    client_id: 0\n",
      "    partition_strategy: class_noniid\n",
      "    visualization: true\n",
      "    output_dirname: ./output\n",
      "    output_filename: visualization.pdf\n",
      "comm_configs:\n",
      "  grpc_configs:\n",
      "    server_uri: localhost:50051\n",
      "    max_message_size: 1048576\n",
      "    use_ssl: false\n",
      "\n"
     ]
    }
   ],
   "source": [
    "client_config_file = \"../../examples/resources/configs/mnist/client_1.yaml\"\n",
    "client_config = OmegaConf.load(client_config_file)\n",
    "print(OmegaConf.to_yaml(client_config))"
   ]
  },
  {
   "cell_type": "markdown",
   "metadata": {},
   "source": [
    "For the configuration above, it should be mentioned that `data_configs` contains the necessary configurations to load the simulated \"local\" datasets for each client. Specifically,\n",
    "\n",
    "- `dataset_path` is the path to the file that contains the function to load the dataset\n",
    "- `dataset_name` is the function nation that loads the dataset in the above file\n",
    "- `dataset_kwargs` are the keyword arguments for that function\n",
    "\n",
    "In the `get_mnist` function above, it partitions the MNIST dataset into `num_clients` client splits in an IID/non-IID (IID: independent identically distributed) manner. "
   ]
  },
  {
   "cell_type": "markdown",
   "metadata": {},
   "source": [
    "Now we need to modify the general client configurations for different clients. Specifically, we make the following changes:\n",
    "\n",
    "- Change `logging_id` for each client\n",
    "- Change the relative path of `dataset_path` to make it point to the right file\n",
    "- Change `num_clients` to 10 and `client_id` to [0, 1, .., 9] for different clients.\n",
    "- Change `visualization` to False for nine clients to only have one data distribution visualization plots."
   ]
  },
  {
   "cell_type": "code",
   "execution_count": 5,
   "metadata": {},
   "outputs": [],
   "source": [
    "import copy\n",
    "client_configs = [\n",
    "    copy.deepcopy(client_config) for _ in range(num_clients)\n",
    "]\n",
    "for i in range(num_clients):\n",
    "    client_configs[i].train_configs.logging_id = f'Client_{i+1}'\n",
    "    client_configs[i].data_configs.dataset_path = '../../examples/resources/dataset/mnist_dataset.py'\n",
    "    client_configs[i].data_configs.dataset_kwargs.num_clients = num_clients\n",
    "    client_configs[i].data_configs.dataset_kwargs.client_id = i\n",
    "    client_configs[i].data_configs.dataset_kwargs.visualization = True if i == 0 else False"
   ]
  },
  {
   "cell_type": "markdown",
   "metadata": {},
   "source": [
    "## Create FL server agent and client agents\n",
    "In APPFL, we use agent to act on behalf of the FL server and FL clients to do necessary steps for the federated learning experiments. User can easily create the agents using the server/client configurations we loaded (and modified a little bit) from the configuration yaml file. Creating the client agents will load the loacal dataset and plot the data distribution visualization as shown below."
   ]
  },
  {
   "cell_type": "code",
   "execution_count": 6,
   "metadata": {},
   "outputs": [
    {
     "name": "stderr",
     "output_type": "stream",
     "text": [
      "[Zilinghans-MBP.attlocal.net:97585] shmem: mmap: an error occurred while determining whether or not /var/folders/b_/gwq73k4j7z53_f2qmdwcl22w0000gp/T//ompi.Zilinghans-MBP.502/jf.0/1240334336/sm_segment.Zilinghans-MBP.502.49ee0000.0 could be created.\n",
      "[2024-08-24 23:08:01,733 INFO server]: Logging to ./output/result_Server_2024-08-24-23:08:01.txt\n",
      "[2024-08-24 23:08:01,733 INFO server]: Setting seed value to 42\n",
      "[2024-08-24 23:08:01,739 INFO Client_1]: Logging to ./output/result_Client_1_2024-08-24-23:08:01.txt\n",
      "[2024-08-24 23:08:09,062 INFO Client_2]: Logging to ./output/result_Client_2_2024-08-24-23:08:09.txt\n",
      "[2024-08-24 23:08:15,508 INFO Client_3]: Logging to ./output/result_Client_3_2024-08-24-23:08:15.txt\n",
      "[2024-08-24 23:08:22,046 INFO Client_4]: Logging to ./output/result_Client_4_2024-08-24-23:08:22.txt\n",
      "[2024-08-24 23:08:28,670 INFO Client_5]: Logging to ./output/result_Client_5_2024-08-24-23:08:28.txt\n",
      "[2024-08-24 23:08:35,214 INFO Client_6]: Logging to ./output/result_Client_6_2024-08-24-23:08:35.txt\n",
      "[2024-08-24 23:08:41,617 INFO Client_7]: Logging to ./output/result_Client_7_2024-08-24-23:08:41.txt\n",
      "[2024-08-24 23:08:48,190 INFO Client_8]: Logging to ./output/result_Client_8_2024-08-24-23:08:48.txt\n",
      "[2024-08-24 23:08:54,630 INFO Client_9]: Logging to ./output/result_Client_9_2024-08-24-23:08:54.txt\n",
      "[2024-08-24 23:09:01,080 INFO Client_10]: Logging to ./output/result_Client_10_2024-08-24-23:09:01.txt\n"
     ]
    },
    {
     "data": {
      "image/png": "[encoded data removed]",
      "text/plain": [
       "<Figure size 2000x800 with 1 Axes>"
      ]
     },
     "metadata": {},
     "output_type": "display_data"
    }
   ],
   "source": [
    "from appfl.agent import ServerAgent, ClientAgent\n",
    "server_agent = ServerAgent(server_agent_config=server_config)\n",
    "client_agents =[\n",
    "    ClientAgent(client_agent_config=client_configs[i]) for i in range(num_clients)\n",
    "]"
   ]
  },
  {
   "cell_type": "markdown",
   "metadata": {},
   "source": [
    "## Start the training process"
   ]
  },
  {
   "cell_type": "markdown",
   "metadata": {},
   "source": [
    "The server configuration files contains many client configurations which should apply for ALL clients. Now, we need to get those configurations from the server and provide them to the client agents."
   ]
  },
  {
   "cell_type": "code",
   "execution_count": 7,
   "metadata": {},
   "outputs": [],
   "source": [
    "# Get additional client configurations from the server\n",
    "client_config_from_server = server_agent.get_client_configs()\n",
    "for client_agent in client_agents:\n",
    "    client_agent.load_config(client_config_from_server)"
   ]
  },
  {
   "cell_type": "markdown",
   "metadata": {},
   "source": [
    "Then, let the clients load initial global model from the server and optionally send the number of local data to the server for weighted aggregation.\n",
    "\n",
    "💡 **Note**: Typically, `server_agent.get_parameters()` blocks the result return or returns a `Future` object, and only returns the global model after receiving `num_clients` calls to synchronoize to process for clients to get the initial model, ensuring all the clients have the same initial model weights. However, as we are doing serial simulation, we don't want the blocking, so we pass `serail_run=True` when calling the function to get the global model immediately."
   ]
  },
  {
   "cell_type": "code",
   "execution_count": 8,
   "metadata": {},
   "outputs": [],
   "source": [
    "# Load initial global model from the server\n",
    "init_global_model = server_agent.get_parameters(serial_run=True)\n",
    "for client_agent in client_agents:\n",
    "    client_agent.load_parameters(init_global_model)\n",
    "\n",
    "# [Optional] Set number of local data to the server\n",
    "for i in range(num_clients):\n",
    "    sample_size = client_agents[i].get_sample_size()\n",
    "    server_agent.set_sample_size(\n",
    "        client_id=client_agents[i].get_id(), \n",
    "        sample_size=sample_size\n",
    "    )"
   ]
  },
  {
   "cell_type": "markdown",
   "metadata": {},
   "source": [
    "Now, we can start the training iterations. Please note the following points:\n",
    "\n",
    "- `server_agent.training_finished` will return a boolean flag indicating whether the training has reached the specified `num_global epochs`\n",
    "- `client_agent.train` trains the client local model using the client's \"local\" data\n",
    "- `server_agent.global_update` takes one client's local model together with a client id (can be get by `client_agent.get_id`) to schedule the global update for the client local model. For synchronous server aggregation algorithms such as `FedAvg`, they will not update the global model until receiving local models from all `num_clients=10` clients, so the call to `global_update` will return a `concurrent.futures.Future` object (if you set `blocking=False`, otherwise, it will block forever for serial simulation), which will be set after all client local models are sent for global update. \n",
    "- In the output log, `Pre Val?` means whether it is validation prior to the local training. As each client only holds data from 3 to 5 classes, the validation accuracy even drops after local training. However, the global model accuracy continues to increase, showcasing the capabilities of federated learning in improving the generalizability of the trained machine learning model."
   ]
  },
  {
   "cell_type": "code",
   "execution_count": 9,
   "metadata": {},
   "outputs": [
    {
     "name": "stderr",
     "output_type": "stream",
     "text": [
      "[2024-08-24 23:09:12,106 INFO Client_1]:      Round   Pre Val?       Time Train Loss Train Accuracy   Val Loss Val Accuracy\n",
      "[2024-08-24 23:09:13,136 INFO Client_1]:          0          Y                                          2.3006      15.9300\n",
      "[2024-08-24 23:09:15,946 INFO Client_1]:          0          N     2.8091     0.4323        90.8109    15.4995      30.3500\n",
      "[2024-08-24 23:09:16,000 INFO Client_2]:      Round   Pre Val?       Time Train Loss Train Accuracy   Val Loss Val Accuracy\n",
      "[2024-08-24 23:09:17,026 INFO Client_2]:          0          Y                                          2.3006      15.9300\n",
      "[2024-08-24 23:09:20,207 INFO Client_2]:          0          N     3.1809     0.3130        87.7656     9.9495      48.6000\n",
      "[2024-08-24 23:09:20,264 INFO Client_3]:      Round   Pre Val?       Time Train Loss Train Accuracy   Val Loss Val Accuracy\n",
      "[2024-08-24 23:09:21,306 INFO Client_3]:          0          Y                                          2.3006      15.9300\n",
      "[2024-08-24 23:09:24,423 INFO Client_3]:          0          N     3.1165     0.3909        85.0781    10.4302      38.2900\n",
      "[2024-08-24 23:09:24,475 INFO Client_4]:      Round   Pre Val?       Time Train Loss Train Accuracy   Val Loss Val Accuracy\n",
      "[2024-08-24 23:09:25,531 INFO Client_4]:          0          Y                                          2.3006      15.9300\n",
      "[2024-08-24 23:09:28,328 INFO Client_4]:          0          N     2.7957     0.4242        89.8377    11.0662      39.8000\n",
      "[2024-08-24 23:09:28,383 INFO Client_5]:      Round   Pre Val?       Time Train Loss Train Accuracy   Val Loss Val Accuracy\n",
      "[2024-08-24 23:09:29,445 INFO Client_5]:          0          Y                                          2.3006      15.9300\n",
      "[2024-08-24 23:09:32,240 INFO Client_5]:          0          N     2.7938     0.1851        92.1406    22.1558      28.8700\n",
      "[2024-08-24 23:09:32,295 INFO Client_6]:      Round   Pre Val?       Time Train Loss Train Accuracy   Val Loss Val Accuracy\n",
      "[2024-08-24 23:09:33,311 INFO Client_6]:          0          Y                                          2.3006      15.9300\n",
      "[2024-08-24 23:09:36,018 INFO Client_6]:          0          N     2.7065     0.6525        85.3739    14.9090      38.8200\n",
      "[2024-08-24 23:09:36,070 INFO Client_7]:      Round   Pre Val?       Time Train Loss Train Accuracy   Val Loss Val Accuracy\n",
      "[2024-08-24 23:09:37,093 INFO Client_7]:          0          Y                                          2.3006      15.9300\n",
      "[2024-08-24 23:09:39,886 INFO Client_7]:          0          N     2.7923     0.2848        86.4844    10.2574      48.8900\n",
      "[2024-08-24 23:09:39,939 INFO Client_8]:      Round   Pre Val?       Time Train Loss Train Accuracy   Val Loss Val Accuracy\n",
      "[2024-08-24 23:09:40,976 INFO Client_8]:          0          Y                                          2.3006      15.9300\n",
      "[2024-08-24 23:09:43,854 INFO Client_8]:          0          N     2.8763     0.3402        92.6434    14.2500      31.1400\n",
      "[2024-08-24 23:09:43,908 INFO Client_9]:      Round   Pre Val?       Time Train Loss Train Accuracy   Val Loss Val Accuracy\n",
      "[2024-08-24 23:09:44,941 INFO Client_9]:          0          Y                                          2.3006      15.9300\n",
      "[2024-08-24 23:09:47,822 INFO Client_9]:          0          N     2.8804     0.3460        86.6562     9.1354      50.0000\n",
      "[2024-08-24 23:09:47,873 INFO Client_10]:      Round   Pre Val?       Time Train Loss Train Accuracy   Val Loss Val Accuracy\n",
      "[2024-08-24 23:09:48,893 INFO Client_10]:          0          Y                                          2.3006      15.9300\n",
      "[2024-08-24 23:09:51,664 INFO Client_10]:          0          N     2.7708     0.2586        88.4375    12.8184      40.2200\n",
      "[2024-08-24 23:09:52,737 INFO Client_1]:          1          Y                                          1.8781      31.4100\n",
      "[2024-08-24 23:09:55,460 INFO Client_1]:          1          N     2.7217     0.1185        98.0745     9.1049      30.4100\n",
      "[2024-08-24 23:09:56,526 INFO Client_2]:          1          Y                                          1.8781      31.4100\n",
      "[2024-08-24 23:09:59,357 INFO Client_2]:          1          N     2.8296     0.1278        95.7500     8.1598      48.6600\n",
      "[2024-08-24 23:10:00,413 INFO Client_3]:          1          Y                                          1.8781      31.4100\n",
      "[2024-08-24 23:10:03,233 INFO Client_3]:          1          N     2.8184     0.1670        94.5625     8.9144      38.5600\n",
      "[2024-08-24 23:10:04,289 INFO Client_4]:          1          Y                                          1.8781      31.4100\n",
      "[2024-08-24 23:10:07,098 INFO Client_4]:          1          N     2.8080     0.1615        96.1872     9.9869      39.7400\n",
      "[2024-08-24 23:10:08,156 INFO Client_5]:          1          Y                                          1.8781      31.4100\n",
      "[2024-08-24 23:10:10,991 INFO Client_5]:          1          N     2.8332     0.0906        97.3125    13.4113      29.5100\n",
      "[2024-08-24 23:10:12,103 INFO Client_6]:          1          Y                                          1.8781      31.4100\n",
      "[2024-08-24 23:10:15,041 INFO Client_6]:          1          N     2.9375     0.1966        96.3553     9.5372      39.4500\n",
      "[2024-08-24 23:10:16,118 INFO Client_7]:          1          Y                                          1.8781      31.4100\n",
      "[2024-08-24 23:10:18,858 INFO Client_7]:          1          N     2.7382     0.1087        95.3281     5.8592      49.1700\n",
      "[2024-08-24 23:10:19,942 INFO Client_8]:          1          Y                                          1.8781      31.4100\n",
      "[2024-08-24 23:10:22,844 INFO Client_8]:          1          N     2.9006     0.0984        98.0466     9.4086      31.2900\n",
      "[2024-08-24 23:10:23,933 INFO Client_9]:          1          Y                                          1.8781      31.4100\n",
      "[2024-08-24 23:10:26,724 INFO Client_9]:          1          N     2.7903     0.1475        94.8594     6.6414      49.2200\n",
      "[2024-08-24 23:10:27,782 INFO Client_10]:          1          Y                                          1.8781      31.4100\n",
      "[2024-08-24 23:10:30,534 INFO Client_10]:          1          N     2.7513     0.1009        96.3594    11.1005      40.7900\n",
      "[2024-08-24 23:10:31,624 INFO Client_1]:          2          Y                                          0.9080      68.8300\n",
      "[2024-08-24 23:10:34,467 INFO Client_1]:          2          N     2.8413     0.0550        99.0764     6.8652      30.4900\n",
      "[2024-08-24 23:10:35,549 INFO Client_2]:          2          Y                                          0.9080      68.8300\n",
      "[2024-08-24 23:10:38,377 INFO Client_2]:          2          N     2.8278     0.0708        97.5000     5.8784      49.1800\n",
      "[2024-08-24 23:10:39,460 INFO Client_3]:          2          Y                                          0.9080      68.8300\n",
      "[2024-08-24 23:10:42,337 INFO Client_3]:          2          N     2.8751     0.0949        96.4844     7.7574      38.7400\n",
      "[2024-08-24 23:10:43,408 INFO Client_4]:          2          Y                                          0.9080      68.8300\n",
      "[2024-08-24 23:10:46,280 INFO Client_4]:          2          N     2.8712     0.0743        98.1566     7.9084      40.0100\n",
      "[2024-08-24 23:10:47,407 INFO Client_5]:          2          Y                                          0.9080      68.8300\n",
      "[2024-08-24 23:10:50,306 INFO Client_5]:          2          N     2.8973     0.0448        98.4219     9.5205      29.7300\n",
      "[2024-08-24 23:10:51,410 INFO Client_6]:          2          Y                                          0.9080      68.8300\n",
      "[2024-08-24 23:10:54,313 INFO Client_6]:          2          N     2.9015     0.0989        98.0120     8.1684      39.4500\n",
      "[2024-08-24 23:10:55,390 INFO Client_7]:          2          Y                                          0.9080      68.8300\n",
      "[2024-08-24 23:10:58,202 INFO Client_7]:          2          N     2.8100     0.0550        97.6562     5.0706      49.2700\n",
      "[2024-08-24 23:10:59,288 INFO Client_8]:          2          Y                                          0.9080      68.8300\n",
      "[2024-08-24 23:11:02,142 INFO Client_8]:          2          N     2.8525     0.0528        98.8815     8.7385      31.2200\n",
      "[2024-08-24 23:11:03,245 INFO Client_9]:          2          Y                                          0.9080      68.8300\n",
      "[2024-08-24 23:11:06,345 INFO Client_9]:          2          N     3.0989     0.0865        96.8906     5.7097      50.2400\n",
      "[2024-08-24 23:11:07,429 INFO Client_10]:          2          Y                                          0.9080      68.8300\n",
      "[2024-08-24 23:11:10,198 INFO Client_10]:          2          N     2.7676     0.0639        97.3438     8.2582      40.8700\n",
      "[2024-08-24 23:11:11,288 INFO Client_1]:          3          Y                                          0.6535      75.2600\n",
      "[2024-08-24 23:11:14,066 INFO Client_1]:          3          N     2.7774     0.0477        99.1234     6.9067      30.4300\n",
      "[2024-08-24 23:11:15,166 INFO Client_2]:          3          Y                                          0.6535      75.2600\n",
      "[2024-08-24 23:11:18,036 INFO Client_2]:          3          N     2.8692     0.0524        98.0938     5.7624      48.5000\n",
      "[2024-08-24 23:11:19,120 INFO Client_3]:          3          Y                                          0.6535      75.2600\n",
      "[2024-08-24 23:11:22,137 INFO Client_3]:          3          N     3.0156     0.0722        97.5312     5.4116      38.7100\n",
      "[2024-08-24 23:11:23,219 INFO Client_4]:          3          Y                                          0.6535      75.2600\n",
      "[2024-08-24 23:11:26,223 INFO Client_4]:          3          N     3.0035     0.0627        98.4875     6.4287      40.1100\n",
      "[2024-08-24 23:11:27,378 INFO Client_5]:          3          Y                                          0.6535      75.2600\n",
      "[2024-08-24 23:11:30,451 INFO Client_5]:          3          N     3.0712     0.0333        98.6406     8.6055      29.7400\n",
      "[2024-08-24 23:11:31,552 INFO Client_6]:          3          Y                                          0.6535      75.2600\n",
      "[2024-08-24 23:11:34,576 INFO Client_6]:          3          N     3.0225     0.0942        98.3275     5.1202      39.3100\n",
      "[2024-08-24 23:11:35,704 INFO Client_7]:          3          Y                                          0.6535      75.2600\n",
      "[2024-08-24 23:11:38,819 INFO Client_7]:          3          N     3.1134     0.0421        98.2812     4.0891      49.5100\n",
      "[2024-08-24 23:11:39,951 INFO Client_8]:          3          Y                                          0.6535      75.2600\n",
      "[2024-08-24 23:11:43,009 INFO Client_8]:          3          N     3.0563     0.0390        99.2596     7.2040      31.3200\n",
      "[2024-08-24 23:11:44,115 INFO Client_9]:          3          Y                                          0.6535      75.2600\n",
      "[2024-08-24 23:11:47,165 INFO Client_9]:          3          N     3.0487     0.0673        97.5156     5.0561      50.6000\n",
      "[2024-08-24 23:11:48,294 INFO Client_10]:          3          Y                                          0.6535      75.2600\n",
      "[2024-08-24 23:11:51,347 INFO Client_10]:          3          N     3.0522     0.0427        98.0000     7.7996      40.8100\n",
      "[2024-08-24 23:11:52,484 INFO Client_1]:          4          Y                                          0.5197      78.8600\n",
      "[2024-08-24 23:11:55,530 INFO Client_1]:          4          N     3.0445     0.0323        99.5147     6.5768      30.4800\n",
      "[2024-08-24 23:11:56,652 INFO Client_2]:          4          Y                                          0.5197      78.8600\n",
      "[2024-08-24 23:11:59,663 INFO Client_2]:          4          N     3.0103     0.0433        98.2500     4.6804      49.0700\n",
      "[2024-08-24 23:12:00,784 INFO Client_3]:          4          Y                                          0.5197      78.8600\n",
      "[2024-08-24 23:12:04,654 INFO Client_3]:          4          N     3.8698     0.0621        97.9062     5.2652      38.8400\n",
      "[2024-08-24 23:12:05,843 INFO Client_4]:          4          Y                                          0.5197      78.8600\n",
      "[2024-08-24 23:12:09,878 INFO Client_4]:          4          N     4.0349     0.0512        98.8026     5.4893      40.2000\n",
      "[2024-08-24 23:12:11,084 INFO Client_5]:          4          Y                                          0.5197      78.8600\n",
      "[2024-08-24 23:12:15,105 INFO Client_5]:          4          N     4.0206     0.0319        98.7500     9.7278      29.7300\n",
      "[2024-08-24 23:12:16,285 INFO Client_6]:          4          Y                                          0.5197      78.8600\n",
      "[2024-08-24 23:12:20,314 INFO Client_6]:          4          N     4.0281     0.0616        98.8640     5.6369      39.5100\n",
      "[2024-08-24 23:12:21,498 INFO Client_7]:          4          Y                                          0.5197      78.8600\n",
      "[2024-08-24 23:12:25,534 INFO Client_7]:          4          N     4.0347     0.0289        98.7969     5.6732      49.0100\n",
      "[2024-08-24 23:12:26,810 INFO Client_8]:          4          Y                                          0.5197      78.8600\n",
      "[2024-08-24 23:12:30,827 INFO Client_8]:          4          N     4.0154     0.0369        99.3069     6.7120      31.3900\n",
      "[2024-08-24 23:12:32,009 INFO Client_9]:          4          Y                                          0.5197      78.8600\n",
      "[2024-08-24 23:12:36,069 INFO Client_9]:          4          N     4.0591     0.0569        97.6562     3.7678      50.7800\n",
      "[2024-08-24 23:12:37,254 INFO Client_10]:          4          Y                                          0.5197      78.8600\n",
      "[2024-08-24 23:12:41,274 INFO Client_10]:          4          N     4.0192     0.0409        98.3281     6.6500      41.0300\n"
     ]
    }
   ],
   "source": [
    "while not server_agent.training_finished():\n",
    "    new_global_models = []\n",
    "    for client_agent in client_agents:\n",
    "        # Client local training\n",
    "        client_agent.train()\n",
    "        local_model = client_agent.get_parameters()\n",
    "        # \"Send\" local model to server and get a Future object for the new global model\n",
    "        # The Future object will be resolved when the server receives local models from all clients\n",
    "        new_global_model_future = server_agent.global_update(\n",
    "            client_id=client_agent.get_id(), \n",
    "            local_model=local_model,\n",
    "            blocking=False,\n",
    "        )\n",
    "        new_global_models.append(new_global_model_future)\n",
    "    # Load the new global model from the server\n",
    "    for client_agent, new_global_model_future in zip(client_agents, new_global_models):\n",
    "        client_agent.load_parameters(new_global_model_future.result())"
   ]
  }
 ],
 "metadata": {
  "kernelspec": {
   "display_name": "fedcompass",
   "language": "python",
   "name": "python3"
  },
  "language_info": {
   "codemirror_mode": {
    "name": "ipython",
    "version": 3
   },
   "file_extension": ".py",
   "mimetype": "text/x-python",
   "name": "python",
   "nbconvert_exporter": "python",
   "pygments_lexer": "ipython3",
   "version": "3.10.14"
  }
 },
 "nbformat": 4,
 "nbformat_minor": 2
}

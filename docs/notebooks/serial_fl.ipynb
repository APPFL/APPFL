{
 "cells": [
  {
   "cell_type": "markdown",
   "metadata": {},
   "source": [
    "# Serial FL Simulation\n",
    "In this notebook, we are going to show how to simulate an FL experiment on a single machine by having each client running serially. It should be noted that only simulating synchronous FL algorithms makes sense when the experiments running serially. We use 10 clients running serially in this example."
   ]
  },
  {
   "cell_type": "code",
   "execution_count": 1,
   "metadata": {},
   "outputs": [],
   "source": [
    "num_clients = 10"
   ]
  },
  {
   "cell_type": "markdown",
   "metadata": {},
   "source": [
    "## Load server configurations\n",
    "In the example, we are going to use the `FedAvg` server aggregation algorithm and the MNIST dataset by loading the server configurations from `examples/configs/mnist/server_fedavg.yaml`."
   ]
  },
  {
   "cell_type": "code",
   "execution_count": 2,
   "metadata": {},
   "outputs": [
    {
     "name": "stdout",
     "output_type": "stream",
     "text": [
      "client_configs:\n",
      "  train_configs:\n",
      "    trainer: NaiveTrainer\n",
      "    mode: step\n",
      "    num_local_steps: 100\n",
      "    optim: Adam\n",
      "    optim_args:\n",
      "      lr: 0.001\n",
      "    loss_fn_path: ./loss/celoss.py\n",
      "    loss_fn_name: CELoss\n",
      "    do_validation: true\n",
      "    do_pre_validation: true\n",
      "    metric_path: ./metric/acc.py\n",
      "    metric_name: accuracy\n",
      "    use_dp: false\n",
      "    epsilon: 1\n",
      "    clip_grad: false\n",
      "    clip_value: 1\n",
      "    clip_norm: 1\n",
      "    train_batch_size: 64\n",
      "    val_batch_size: 64\n",
      "    train_data_shuffle: true\n",
      "    val_data_shuffle: false\n",
      "  model_configs:\n",
      "    model_path: ./model/cnn.py\n",
      "    model_name: CNN\n",
      "    model_kwargs:\n",
      "      num_channel: 1\n",
      "      num_classes: 10\n",
      "      num_pixel: 28\n",
      "  comm_configs:\n",
      "    compressor_configs:\n",
      "      enable_compression: false\n",
      "      lossy_compressor: SZ2\n",
      "      lossless_compressor: blosc\n",
      "      error_bounding_mode: REL\n",
      "      error_bound: 0.001\n",
      "      flat_model_dtype: np.float32\n",
      "      param_cutoff: 1024\n",
      "server_configs:\n",
      "  scheduler: SyncScheduler\n",
      "  scheduler_kwargs:\n",
      "    num_clients: 2\n",
      "    same_init_model: true\n",
      "  aggregator: FedAvgAggregator\n",
      "  aggregator_kwargs:\n",
      "    client_weights_mode: equal\n",
      "  device: cpu\n",
      "  num_global_epochs: 10\n",
      "  logging_output_dirname: ./output\n",
      "  logging_output_filename: result\n",
      "  comm_configs:\n",
      "    grpc_configs:\n",
      "      server_uri: localhost:50051\n",
      "      max_message_size: 1048576\n",
      "      use_ssl: false\n",
      "\n"
     ]
    }
   ],
   "source": [
    "from omegaconf import OmegaConf\n",
    "server_config_file = \"../../examples/configs/mnist/server_fedavg.yaml\"\n",
    "server_config = OmegaConf.load(server_config_file)\n",
    "print(OmegaConf.to_yaml(server_config))"
   ]
  },
  {
   "cell_type": "markdown",
   "metadata": {},
   "source": [
    "💡 It should be noted that configuration fields such as `loss_fn_path`, `metric_path`, and `model_path` are the paths to the corresponding files, so we need to change their relative paths now to make sure the paths point to the right files. \n",
    "\n",
    "💡 We also change the `num_global_epochs` from 10 to 5.\n",
    "\n",
    "⚠️ We also need change `num_clients` in `server_configs.scheduler_kwargs` to 10."
   ]
  },
  {
   "cell_type": "code",
   "execution_count": 3,
   "metadata": {},
   "outputs": [],
   "source": [
    "server_config.client_configs.train_configs.loss_fn_path = '../../examples/loss/celoss.py'\n",
    "server_config.client_configs.train_configs.metric_path = '../../examples/metric/acc.py'\n",
    "server_config.client_configs.model_configs.model_path = '../../examples/model/cnn.py'\n",
    "server_config.server_configs.num_global_epochs = 5\n",
    "server_config.server_configs.scheduler_kwargs.num_clients = num_clients"
   ]
  },
  {
   "cell_type": "markdown",
   "metadata": {},
   "source": [
    "## Load client configurations\n",
    "In this example, we suppose that `num_clients=10` and load the basic configurations for all the clients from `examples/configs/mnist/client_1.yaml`. Let's first take a look at this basic configuration."
   ]
  },
  {
   "cell_type": "code",
   "execution_count": 4,
   "metadata": {},
   "outputs": [
    {
     "name": "stdout",
     "output_type": "stream",
     "text": [
      "train_configs:\n",
      "  device: cpu\n",
      "  logging_id: Client1\n",
      "  logging_output_dirname: ./output\n",
      "  logging_output_filename: result\n",
      "data_configs:\n",
      "  dataset_path: ./dataset/mnist_dataset.py\n",
      "  dataset_name: get_mnist\n",
      "  dataset_kwargs:\n",
      "    num_clients: 2\n",
      "    client_id: 0\n",
      "    partition_strategy: class_noniid\n",
      "    visualization: true\n",
      "    output_dirname: ./output\n",
      "    output_filename: visualization.pdf\n",
      "comm_configs:\n",
      "  grpc_configs:\n",
      "    server_uri: localhost:50051\n",
      "    max_message_size: 1048576\n",
      "    use_ssl: false\n",
      "\n"
     ]
    }
   ],
   "source": [
    "\n",
    "\n",
    "client_config_file = \"../../examples/configs/mnist/client_1.yaml\"\n",
    "client_config = OmegaConf.load(client_config_file)\n",
    "print(OmegaConf.to_yaml(client_config))"
   ]
  },
  {
   "cell_type": "markdown",
   "metadata": {},
   "source": [
    "For the configuration above, it should be mentioned that `data_configs` contains the necessary configurations to load the simulated \"local\" datasets for each client. Specifically,\n",
    "\n",
    "- `dataset_path` is the path to the file that contains the function to load the dataset\n",
    "- `dataset_name` is the function nation that loads the dataset in the above file\n",
    "- `dataset_kwargs` are the keyword arguments for that function\n",
    "\n",
    "In the `get_mnist` function above, it partitions the MNIST dataset into `num_clients` client splits in an IID/non-IID (IID: independent identically distributed) manner. "
   ]
  },
  {
   "cell_type": "markdown",
   "metadata": {},
   "source": [
    "Now we need to modify the general client configurations for different clients. Specifically, we make the following changes:\n",
    "\n",
    "- Change `logging_id` for each client\n",
    "- Change the relative path of `dataset_path` to make it point to the right file\n",
    "- Change `num_clients` to 10 and `client_id` to [0, 1, .., 9] for different clients.\n",
    "- Change `visualization` to False for nine clients to only have one data distribution visualization plots."
   ]
  },
  {
   "cell_type": "code",
   "execution_count": 5,
   "metadata": {},
   "outputs": [],
   "source": [
    "import copy\n",
    "client_configs = [\n",
    "    copy.deepcopy(client_config) for _ in range(num_clients)\n",
    "]\n",
    "for i in range(num_clients):\n",
    "    client_configs[i].train_configs.logging_id = f'Client_{i+1}'\n",
    "    client_configs[i].data_configs.dataset_path = '../../examples/dataset/mnist_dataset.py'\n",
    "    client_configs[i].data_configs.dataset_kwargs.num_clients = num_clients\n",
    "    client_configs[i].data_configs.dataset_kwargs.client_id = i\n",
    "    client_configs[i].data_configs.dataset_kwargs.visualization = True if i == 0 else False"
   ]
  },
  {
   "cell_type": "markdown",
   "metadata": {},
   "source": [
    "## Create FL server agent and client agents\n",
    "In APPFL, we use agent to act on behalf of the FL server and FL clients to do necessary steps for the federated learning experiments. User can easily create the agents using the server/client configurations we loaded (and modified a little bit) from the configuration yaml file. Creating the client agents will load the loacal dataset and plot the data distribution visualization as shown below."
   ]
  },
  {
   "cell_type": "code",
   "execution_count": 6,
   "metadata": {},
   "outputs": [
    {
     "name": "stderr",
     "output_type": "stream",
     "text": [
      "[2024-04-22 23:33:12,875 INFO server]: Logging to ./output/result_Server_2024-04-22 23:33:12.txt\n",
      "[2024-04-22 23:33:12,881 INFO Client_1]: Logging to ./output/result_Client_1_2024-04-22 23:33:12.txt\n",
      "[2024-04-22 23:33:22,761 INFO Client_2]: Logging to ./output/result_Client_2_2024-04-22 23:33:22.txt\n",
      "[2024-04-22 23:33:31,410 INFO Client_3]: Logging to ./output/result_Client_3_2024-04-22 23:33:31.txt\n",
      "[2024-04-22 23:33:39,911 INFO Client_4]: Logging to ./output/result_Client_4_2024-04-22 23:33:39.txt\n",
      "[2024-04-22 23:33:48,678 INFO Client_5]: Logging to ./output/result_Client_5_2024-04-22 23:33:48.txt\n",
      "[2024-04-22 23:33:57,405 INFO Client_6]: Logging to ./output/result_Client_6_2024-04-22 23:33:57.txt\n",
      "[2024-04-22 23:34:06,130 INFO Client_7]: Logging to ./output/result_Client_7_2024-04-22 23:34:06.txt\n",
      "[2024-04-22 23:34:14,694 INFO Client_8]: Logging to ./output/result_Client_8_2024-04-22 23:34:14.txt\n",
      "[2024-04-22 23:34:23,389 INFO Client_9]: Logging to ./output/result_Client_9_2024-04-22 23:34:23.txt\n",
      "[2024-04-22 23:34:32,055 INFO Client_10]: Logging to ./output/result_Client_10_2024-04-22 23:34:32.txt\n"
     ]
    },
    {
     "data": {
      "image/png": "[encoded data removed]",
      "text/plain": [
       "<Figure size 2000x800 with 1 Axes>"
      ]
     },
     "metadata": {},
     "output_type": "display_data"
    }
   ],
   "source": [
    "from appfl.agent import APPFLServerAgent, APPFLClientAgent\n",
    "server_agent = APPFLServerAgent(server_agent_config=server_config)\n",
    "client_agents =[\n",
    "    APPFLClientAgent(client_agent_config=client_configs[i]) for i in range(num_clients)\n",
    "]"
   ]
  },
  {
   "cell_type": "markdown",
   "metadata": {},
   "source": [
    "## Start the training process"
   ]
  },
  {
   "cell_type": "markdown",
   "metadata": {},
   "source": [
    "The server configuration files contains many client configurations which should apply for ALL clients. Now, we need to get those configurations from the server and provide them to the client agents."
   ]
  },
  {
   "cell_type": "code",
   "execution_count": 7,
   "metadata": {},
   "outputs": [],
   "source": [
    "# Get additional client configurations from the server\n",
    "client_config_from_server = server_agent.get_client_configs()\n",
    "for client_agent in client_agents:\n",
    "    client_agent.load_config(client_config_from_server)"
   ]
  },
  {
   "cell_type": "markdown",
   "metadata": {},
   "source": [
    "Then, let the clients load initial global model from the server and optionally send the number of local data to the server for weighted aggregation.\n",
    "\n",
    "💡 **Note**: Typically, `server_agent.get_parameters()` blocks the result return or returns a `Future` object, and only returns the global model after receiving `num_clients` calls to synchronoize to process for clients to get the initial model, ensuring all the clients have the same initial model weights. However, as we are doing serial simulation, we don't want the blocking, so we pass `serail_run=True` when calling the function to get the global model immediately."
   ]
  },
  {
   "cell_type": "code",
   "execution_count": 8,
   "metadata": {},
   "outputs": [],
   "source": [
    "# Load initial global model from the server\n",
    "init_global_model = server_agent.get_parameters(serial_run=True)\n",
    "for client_agent in client_agents:\n",
    "    client_agent.load_parameters(init_global_model)\n",
    "\n",
    "# [Optional] Set number of local data to the server\n",
    "for i in range(num_clients):\n",
    "    sample_size = client_agents[i].get_sample_size()\n",
    "    server_agent.set_sample_size(\n",
    "        client_id=client_agents[i].get_id(), \n",
    "        sample_size=sample_size\n",
    "    )"
   ]
  },
  {
   "cell_type": "markdown",
   "metadata": {},
   "source": [
    "Now, we can start the training iterations."
   ]
  },
  {
   "cell_type": "code",
   "execution_count": 9,
   "metadata": {},
   "outputs": [
    {
     "name": "stderr",
     "output_type": "stream",
     "text": [
      "[2024-04-22 23:34:40,997 INFO Client_1]:      Round   Pre Val?       Time Train Loss Train Accuracy   Val Loss Val Accuracy\n",
      "[2024-04-22 23:34:43,252 INFO Client_1]:          0          Y                                          2.3002       5.2800\n",
      "[2024-04-22 23:34:52,641 INFO Client_1]:          0          N     9.3872     0.4548        90.4508    14.6555      30.3300\n",
      "[2024-04-22 23:34:52,644 INFO Client_2]:      Round   Pre Val?       Time Train Loss Train Accuracy   Val Loss Val Accuracy\n",
      "[2024-04-22 23:34:54,885 INFO Client_2]:          0          Y                                          2.3002       5.2800\n",
      "[2024-04-22 23:35:02,455 INFO Client_2]:          0          N     7.5685     0.3158        87.2500     8.5833      48.6200\n",
      "[2024-04-22 23:35:02,457 INFO Client_3]:      Round   Pre Val?       Time Train Loss Train Accuracy   Val Loss Val Accuracy\n",
      "[2024-04-22 23:35:04,694 INFO Client_3]:          0          Y                                          2.3002       5.2800\n",
      "[2024-04-22 23:35:12,763 INFO Client_3]:          0          N     8.0682     0.4028        83.3906     9.5405      38.0300\n",
      "[2024-04-22 23:35:12,766 INFO Client_4]:      Round   Pre Val?       Time Train Loss Train Accuracy   Val Loss Val Accuracy\n",
      "[2024-04-22 23:35:15,014 INFO Client_4]:          0          Y                                          2.3002       5.2800\n",
      "[2024-04-22 23:35:23,132 INFO Client_4]:          0          N     8.1175     0.3897        90.1686    15.1183      39.7500\n",
      "[2024-04-22 23:35:23,144 INFO Client_5]:      Round   Pre Val?       Time Train Loss Train Accuracy   Val Loss Val Accuracy\n",
      "[2024-04-22 23:35:25,542 INFO Client_5]:          0          Y                                          2.3002       5.2800\n",
      "[2024-04-22 23:35:35,362 INFO Client_5]:          0          N     9.8192     0.2120        91.4688    13.4565      29.4700\n",
      "[2024-04-22 23:35:35,365 INFO Client_6]:      Round   Pre Val?       Time Train Loss Train Accuracy   Val Loss Val Accuracy\n",
      "[2024-04-22 23:35:37,729 INFO Client_6]:          0          Y                                          2.3002       5.2800\n",
      "[2024-04-22 23:35:45,938 INFO Client_6]:          0          N     8.2090     0.6526        86.4784    11.7050      38.6100\n",
      "[2024-04-22 23:35:45,940 INFO Client_7]:      Round   Pre Val?       Time Train Loss Train Accuracy   Val Loss Val Accuracy\n",
      "[2024-04-22 23:35:49,314 INFO Client_7]:          0          Y                                          2.3002       5.2800\n",
      "[2024-04-22 23:35:57,911 INFO Client_7]:          0          N     8.5969     0.3121        85.7500     8.9384      48.7600\n",
      "[2024-04-22 23:35:57,914 INFO Client_8]:      Round   Pre Val?       Time Train Loss Train Accuracy   Val Loss Val Accuracy\n",
      "[2024-04-22 23:36:00,020 INFO Client_8]:          0          Y                                          2.3002       5.2800\n",
      "[2024-04-22 23:36:07,668 INFO Client_8]:          0          N     7.6469     0.3474        92.9742    12.5894      31.1200\n",
      "[2024-04-22 23:36:07,671 INFO Client_9]:      Round   Pre Val?       Time Train Loss Train Accuracy   Val Loss Val Accuracy\n",
      "[2024-04-22 23:36:09,971 INFO Client_9]:          0          Y                                          2.3002       5.2800\n",
      "[2024-04-22 23:36:18,597 INFO Client_9]:          0          N     8.6247     0.3339        87.4688    10.1978      49.5800\n",
      "[2024-04-22 23:36:18,600 INFO Client_10]:      Round   Pre Val?       Time Train Loss Train Accuracy   Val Loss Val Accuracy\n",
      "[2024-04-22 23:36:20,823 INFO Client_10]:          0          Y                                          2.3002       5.2800\n",
      "[2024-04-22 23:36:31,596 INFO Client_10]:          0          N    10.7726     0.2585        88.9531    12.0857      40.5500\n",
      "[2024-04-22 23:36:34,052 INFO Client_1]:          1          Y                                          1.7316      41.6000\n",
      "[2024-04-22 23:36:42,876 INFO Client_1]:          1          N     8.8222     0.1133        98.0902    11.1176      30.4200\n",
      "[2024-04-22 23:36:45,160 INFO Client_2]:          1          Y                                          1.7316      41.6000\n",
      "[2024-04-22 23:36:53,334 INFO Client_2]:          1          N     8.1723     0.1161        96.2812     7.6177      48.7800\n",
      "[2024-04-22 23:36:55,501 INFO Client_3]:          1          Y                                          1.7316      41.6000\n",
      "[2024-04-22 23:37:03,272 INFO Client_3]:          1          N     7.7693     0.1583        94.3594     7.0391      38.5000\n",
      "[2024-04-22 23:37:05,465 INFO Client_4]:          1          Y                                          1.7316      41.6000\n",
      "[2024-04-22 23:37:13,578 INFO Client_4]:          1          N     8.1107     0.1451        96.7859     9.1838      39.9300\n",
      "[2024-04-22 23:37:15,822 INFO Client_5]:          1          Y                                          1.7316      41.6000\n",
      "[2024-04-22 23:37:24,850 INFO Client_5]:          1          N     9.0263     0.0883        97.3906    11.4644      29.7100\n",
      "[2024-04-22 23:37:27,043 INFO Client_6]:          1          Y                                          1.7316      41.6000\n",
      "[2024-04-22 23:37:35,425 INFO Client_6]:          1          N     8.3805     0.1989        96.3711     9.9379      39.3900\n",
      "[2024-04-22 23:37:37,707 INFO Client_7]:          1          Y                                          1.7316      41.6000\n",
      "[2024-04-22 23:37:46,027 INFO Client_7]:          1          N     8.3180     0.0951        96.1094     7.6791      48.4900\n",
      "[2024-04-22 23:37:47,979 INFO Client_8]:          1          Y                                          1.7316      41.6000\n",
      "[2024-04-22 23:37:56,423 INFO Client_8]:          1          N     8.4428     0.1110        97.7631     7.1956      31.1100\n",
      "[2024-04-22 23:37:58,837 INFO Client_9]:          1          Y                                          1.7316      41.6000\n",
      "[2024-04-22 23:38:06,737 INFO Client_9]:          1          N     7.8981     0.1462        94.7969     7.2657      50.4500\n",
      "[2024-04-22 23:38:08,878 INFO Client_10]:          1          Y                                          1.7316      41.6000\n",
      "[2024-04-22 23:38:21,600 INFO Client_10]:          1          N    12.7208     0.1085        95.9531     9.0972      40.8100\n",
      "[2024-04-22 23:38:24,979 INFO Client_1]:          2          Y                                          1.0006      67.6700\n",
      "[2024-04-22 23:38:38,850 INFO Client_1]:          2          N    13.8676     0.0591        99.0451     8.3169      30.4600\n",
      "[2024-04-22 23:38:41,231 INFO Client_2]:          2          Y                                          1.0006      67.6700\n",
      "[2024-04-22 23:38:51,914 INFO Client_2]:          2          N    10.6817     0.0669        97.6875     5.6416      49.1600\n",
      "[2024-04-22 23:38:54,661 INFO Client_3]:          2          Y                                          1.0006      67.6700\n",
      "[2024-04-22 23:39:03,437 INFO Client_3]:          2          N     8.7747     0.0990        96.7969     6.5770      38.7100\n",
      "[2024-04-22 23:39:05,625 INFO Client_4]:          2          Y                                          1.0006      67.6700\n",
      "[2024-04-22 23:39:14,577 INFO Client_4]:          2          N     8.9506     0.0830        98.0306     6.9227      40.1000\n",
      "[2024-04-22 23:39:16,943 INFO Client_5]:          2          Y                                          1.0006      67.6700\n",
      "[2024-04-22 23:39:25,994 INFO Client_5]:          2          N     9.0500     0.0548        98.0781     9.5698      29.7200\n",
      "[2024-04-22 23:39:28,437 INFO Client_6]:          2          Y                                          1.0006      67.6700\n",
      "[2024-04-22 23:39:39,459 INFO Client_6]:          2          N    11.0215     0.0972        98.2644     8.4818      39.4500\n",
      "[2024-04-22 23:39:41,593 INFO Client_7]:          2          Y                                          1.0006      67.6700\n",
      "[2024-04-22 23:39:51,455 INFO Client_7]:          2          N     9.8602     0.0626        97.2969     4.9058      49.5200\n",
      "[2024-04-22 23:39:53,689 INFO Client_8]:          2          Y                                          1.0006      67.6700\n",
      "[2024-04-22 23:40:02,972 INFO Client_8]:          2          N     9.2807     0.0516        98.9918     7.9976      31.3200\n",
      "[2024-04-22 23:40:05,423 INFO Client_9]:          2          Y                                          1.0006      67.6700\n",
      "[2024-04-22 23:40:14,555 INFO Client_9]:          2          N     9.1299     0.0954        96.7656     4.6469      50.5900\n",
      "[2024-04-22 23:40:16,814 INFO Client_10]:          2          Y                                          1.0006      67.6700\n",
      "[2024-04-22 23:40:26,249 INFO Client_10]:          2          N     9.4334     0.0632        97.7812     8.5288      40.7700\n",
      "[2024-04-22 23:40:28,702 INFO Client_1]:          3          Y                                          0.6914      74.9700\n",
      "[2024-04-22 23:40:37,489 INFO Client_1]:          3          N     8.7855     0.0326        99.4364     9.7852      30.3000\n",
      "[2024-04-22 23:40:39,672 INFO Client_2]:          3          Y                                          0.6914      74.9700\n",
      "[2024-04-22 23:40:48,642 INFO Client_2]:          3          N     8.9679     0.0503        98.0938     5.7030      48.8100\n",
      "[2024-04-22 23:40:50,916 INFO Client_3]:          3          Y                                          0.6914      74.9700\n",
      "[2024-04-22 23:40:59,789 INFO Client_3]:          3          N     8.8701     0.0800        97.2344     6.4823      38.5400\n",
      "[2024-04-22 23:41:01,838 INFO Client_4]:          3          Y                                          0.6914      74.9700\n",
      "[2024-04-22 23:41:10,222 INFO Client_4]:          3          N     8.3829     0.0670        98.3772     7.0696      40.1300\n",
      "[2024-04-22 23:41:12,429 INFO Client_5]:          3          Y                                          0.6914      74.9700\n",
      "[2024-04-22 23:41:21,425 INFO Client_5]:          3          N     8.9952     0.0392        98.5938     9.3147      29.8600\n",
      "[2024-04-22 23:41:24,325 INFO Client_6]:          3          Y                                          0.6914      74.9700\n",
      "[2024-04-22 23:41:33,706 INFO Client_6]:          3          N     9.3786     0.0791        98.6115     6.0205      38.7500\n",
      "[2024-04-22 23:41:35,888 INFO Client_7]:          3          Y                                          0.6914      74.9700\n",
      "[2024-04-22 23:41:45,175 INFO Client_7]:          3          N     9.2826     0.0430        98.1406     3.9748      49.8000\n",
      "[2024-04-22 23:41:47,271 INFO Client_8]:          3          Y                                          0.6914      74.9700\n",
      "[2024-04-22 23:41:56,259 INFO Client_8]:          3          N     8.9871     0.0362        99.4171     7.7214      31.3100\n",
      "[2024-04-22 23:41:58,476 INFO Client_9]:          3          Y                                          0.6914      74.9700\n",
      "[2024-04-22 23:42:06,519 INFO Client_9]:          3          N     8.0415     0.0722        97.4375     4.4197      50.6100\n",
      "[2024-04-22 23:42:08,716 INFO Client_10]:          3          Y                                          0.6914      74.9700\n",
      "[2024-04-22 23:42:17,093 INFO Client_10]:          3          N     8.3740     0.0546        97.5938     6.9233      40.8400\n",
      "[2024-04-22 23:42:19,133 INFO Client_1]:          4          Y                                          0.4859      80.1800\n",
      "[2024-04-22 23:42:28,107 INFO Client_1]:          4          N     8.9721     0.0279        99.4991     6.9089      30.4400\n",
      "[2024-04-22 23:42:30,219 INFO Client_2]:          4          Y                                          0.4859      80.1800\n",
      "[2024-04-22 23:42:39,036 INFO Client_2]:          4          N     8.8142     0.0483        98.2500     4.0832      48.9600\n",
      "[2024-04-22 23:42:41,331 INFO Client_3]:          4          Y                                          0.4859      80.1800\n",
      "[2024-04-22 23:42:50,587 INFO Client_3]:          4          N     9.2546     0.0619        97.7031     5.4002      38.7300\n",
      "[2024-04-22 23:42:52,838 INFO Client_4]:          4          Y                                          0.4859      80.1800\n",
      "[2024-04-22 23:43:02,515 INFO Client_4]:          4          N     9.6747     0.0430        99.0074     6.7753      40.1000\n",
      "[2024-04-22 23:43:04,826 INFO Client_5]:          4          Y                                          0.4859      80.1800\n",
      "[2024-04-22 23:43:13,587 INFO Client_5]:          4          N     8.7595     0.0318        98.8906     7.5813      29.8200\n",
      "[2024-04-22 23:43:15,815 INFO Client_6]:          4          Y                                          0.4859      80.1800\n",
      "[2024-04-22 23:43:24,546 INFO Client_6]:          4          N     8.7284     0.0624        98.7220     5.9872      39.6000\n",
      "[2024-04-22 23:43:26,578 INFO Client_7]:          4          Y                                          0.4859      80.1800\n",
      "[2024-04-22 23:43:35,587 INFO Client_7]:          4          N     9.0065     0.0391        98.5000     3.9126      49.6900\n",
      "[2024-04-22 23:43:37,789 INFO Client_8]:          4          Y                                          0.4859      80.1800\n",
      "[2024-04-22 23:43:47,937 INFO Client_8]:          4          N    10.1464     0.0387        99.3384     6.3163      31.3700\n",
      "[2024-04-22 23:43:50,898 INFO Client_9]:          4          Y                                          0.4859      80.1800\n",
      "[2024-04-22 23:44:01,346 INFO Client_9]:          4          N    10.4460     0.0604        97.7969     4.3083      50.9900\n",
      "[2024-04-22 23:44:03,431 INFO Client_10]:          4          Y                                          0.4859      80.1800\n",
      "[2024-04-22 23:44:13,849 INFO Client_10]:          4          N    10.4163     0.0406        98.3906     5.9568      40.9300\n"
     ]
    }
   ],
   "source": [
    "while not server_agent.training_finished():\n",
    "    new_global_models = []\n",
    "    for client_agent in client_agents:\n",
    "        # Client local training\n",
    "        client_agent.train()\n",
    "        local_model = client_agent.get_parameters()\n",
    "        # \"Send\" local model to server and get a Future object for the new global model\n",
    "        # The Future object will be resolved when the server receives local models from all clients\n",
    "        new_global_model_future = server_agent.global_update(\n",
    "            client_id=client_agent.get_id(), \n",
    "            local_model=local_model,\n",
    "            blocking=False,\n",
    "        )\n",
    "        new_global_models.append(new_global_model_future)\n",
    "    # Load the new global model from the server\n",
    "    for client_agent, new_global_model_future in zip(client_agents, new_global_models):\n",
    "        client_agent.load_parameters(new_global_model_future.result())"
   ]
  }
 ],
 "metadata": {
  "kernelspec": {
   "display_name": "fedcompass",
   "language": "python",
   "name": "python3"
  },
  "language_info": {
   "codemirror_mode": {
    "name": "ipython",
    "version": 3
   },
   "file_extension": ".py",
   "mimetype": "text/x-python",
   "name": "python",
   "nbconvert_exporter": "python",
   "pygments_lexer": "ipython3",
   "version": "3.8.18"
  }
 },
 "nbformat": 4,
 "nbformat_minor": 2
}

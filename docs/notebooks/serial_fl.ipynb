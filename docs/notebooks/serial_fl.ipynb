{
 "cells": [
  {
   "cell_type": "markdown",
   "metadata": {},
   "source": [
    "# Serial FL Simulation\n",
    "In this notebook, we are going to show how to simulate an FL experiment on a single machine by having each client running serially. It should be noted that only simulating synchronous FL algorithms makes sense when the experiments running serially. We use 10 clients running serially in this example."
   ]
  },
  {
   "cell_type": "code",
   "execution_count": 1,
   "metadata": {},
   "outputs": [],
   "source": [
    "num_clients = 10"
   ]
  },
  {
   "cell_type": "markdown",
   "metadata": {},
   "source": [
    "## Load server configurations\n",
    "In the example, we are going to use the `FedAvg` server aggregation algorithm and the MNIST dataset by loading the server configurations from `examples/configs/mnist/server_fedavg.yaml`."
   ]
  },
  {
   "cell_type": "code",
   "execution_count": 2,
   "metadata": {},
   "outputs": [
    {
     "name": "stdout",
     "output_type": "stream",
     "text": [
      "client_configs:\n",
      "  train_configs:\n",
      "    trainer: NaiveTrainer\n",
      "    mode: step\n",
      "    num_local_steps: 100\n",
      "    optim: Adam\n",
      "    optim_args:\n",
      "      lr: 0.001\n",
      "    loss_fn_path: ./loss/celoss.py\n",
      "    loss_fn_name: CELoss\n",
      "    do_validation: true\n",
      "    do_pre_validation: true\n",
      "    metric_path: ./metric/acc.py\n",
      "    metric_name: accuracy\n",
      "    use_dp: false\n",
      "    epsilon: 1\n",
      "    clip_grad: false\n",
      "    clip_value: 1\n",
      "    clip_norm: 1\n",
      "    train_batch_size: 64\n",
      "    val_batch_size: 64\n",
      "    train_data_shuffle: true\n",
      "    val_data_shuffle: false\n",
      "  model_configs:\n",
      "    model_path: ./model/cnn.py\n",
      "    model_name: CNN\n",
      "    model_kwargs:\n",
      "      num_channel: 1\n",
      "      num_classes: 10\n",
      "      num_pixel: 28\n",
      "  comm_configs:\n",
      "    compressor_configs:\n",
      "      enable_compression: false\n",
      "      lossy_compressor: SZ2\n",
      "      lossless_compressor: blosc\n",
      "      error_bounding_mode: REL\n",
      "      error_bound: 0.001\n",
      "      flat_model_dtype: np.float32\n",
      "      param_cutoff: 1024\n",
      "server_configs:\n",
      "  scheduler: SyncScheduler\n",
      "  scheduler_kwargs:\n",
      "    num_clients: 2\n",
      "    same_init_model: true\n",
      "  aggregator: FedAvgAggregator\n",
      "  aggregator_kwargs:\n",
      "    client_weights_mode: equal\n",
      "  device: cpu\n",
      "  num_global_epochs: 10\n",
      "  logging_output_dirname: ./output\n",
      "  logging_output_filename: result\n",
      "  comm_configs:\n",
      "    grpc_configs:\n",
      "      server_uri: localhost:50051\n",
      "      max_message_size: 1048576\n",
      "      use_ssl: false\n",
      "\n"
     ]
    }
   ],
   "source": [
    "from omegaconf import OmegaConf\n",
    "server_config_file = \"../../examples/configs/mnist/server_fedavg.yaml\"\n",
    "server_config = OmegaConf.load(server_config_file)\n",
    "print(OmegaConf.to_yaml(server_config))"
   ]
  },
  {
   "cell_type": "markdown",
   "metadata": {},
   "source": [
    "💡 It should be noted that configuration fields such as `loss_fn_path`, `metric_path`, and `model_path` are the paths to the corresponding files, so we need to change their relative paths now to make sure the paths point to the right files. \n",
    "\n",
    "💡 We also change the `num_global_epochs` from 10 to 5.\n",
    "\n",
    "⚠️ We also need change `num_clients` in `server_configs.scheduler_kwargs` to 10."
   ]
  },
  {
   "cell_type": "code",
   "execution_count": 3,
   "metadata": {},
   "outputs": [],
   "source": [
    "server_config.client_configs.train_configs.loss_fn_path = '../../examples/loss/celoss.py'\n",
    "server_config.client_configs.train_configs.metric_path = '../../examples/metric/acc.py'\n",
    "server_config.client_configs.model_configs.model_path = '../../examples/model/cnn.py'\n",
    "server_config.server_configs.num_global_epochs = 5\n",
    "server_config.server_configs.scheduler_kwargs.num_clients = num_clients"
   ]
  },
  {
   "cell_type": "markdown",
   "metadata": {},
   "source": [
    "## Load client configurations\n",
    "In this example, we suppose that `num_clients=10` and load the basic configurations for all the clients from `examples/configs/mnist/client_1.yaml`. Let's first take a look at this basic configuration."
   ]
  },
  {
   "cell_type": "code",
   "execution_count": 4,
   "metadata": {},
   "outputs": [
    {
     "name": "stdout",
     "output_type": "stream",
     "text": [
      "train_configs:\n",
      "  device: cpu\n",
      "  logging_id: Client1\n",
      "  logging_output_dirname: ./output\n",
      "  logging_output_filename: result\n",
      "data_configs:\n",
      "  dataset_path: ./dataset/mnist_dataset.py\n",
      "  dataset_name: get_mnist\n",
      "  dataset_kwargs:\n",
      "    num_clients: 2\n",
      "    client_id: 0\n",
      "    partition_strategy: class_noniid\n",
      "    visualization: true\n",
      "    output_dirname: ./output\n",
      "    output_filename: visualization.pdf\n",
      "comm_configs:\n",
      "  grpc_configs:\n",
      "    server_uri: localhost:50051\n",
      "    max_message_size: 1048576\n",
      "    use_ssl: false\n",
      "\n"
     ]
    }
   ],
   "source": [
    "client_config_file = \"../../examples/configs/mnist/client_1.yaml\"\n",
    "client_config = OmegaConf.load(client_config_file)\n",
    "print(OmegaConf.to_yaml(client_config))"
   ]
  },
  {
   "cell_type": "markdown",
   "metadata": {},
   "source": [
    "For the configuration above, it should be mentioned that `data_configs` contains the necessary configurations to load the simulated \"local\" datasets for each client. Specifically,\n",
    "\n",
    "- `dataset_path` is the path to the file that contains the function to load the dataset\n",
    "- `dataset_name` is the function nation that loads the dataset in the above file\n",
    "- `dataset_kwargs` are the keyword arguments for that function\n",
    "\n",
    "In the `get_mnist` function above, it partitions the MNIST dataset into `num_clients` client splits in an IID/non-IID (IID: independent identically distributed) manner. "
   ]
  },
  {
   "cell_type": "markdown",
   "metadata": {},
   "source": [
    "Now we need to modify the general client configurations for different clients. Specifically, we make the following changes:\n",
    "\n",
    "- Change `logging_id` for each client\n",
    "- Change the relative path of `dataset_path` to make it point to the right file\n",
    "- Change `num_clients` to 10 and `client_id` to [0, 1, .., 9] for different clients.\n",
    "- Change `visualization` to False for nine clients to only have one data distribution visualization plots."
   ]
  },
  {
   "cell_type": "code",
   "execution_count": 5,
   "metadata": {},
   "outputs": [],
   "source": [
    "import copy\n",
    "client_configs = [\n",
    "    copy.deepcopy(client_config) for _ in range(num_clients)\n",
    "]\n",
    "for i in range(num_clients):\n",
    "    client_configs[i].train_configs.logging_id = f'Client_{i+1}'\n",
    "    client_configs[i].data_configs.dataset_path = '../../examples/dataset/mnist_dataset.py'\n",
    "    client_configs[i].data_configs.dataset_kwargs.num_clients = num_clients\n",
    "    client_configs[i].data_configs.dataset_kwargs.client_id = i\n",
    "    client_configs[i].data_configs.dataset_kwargs.visualization = True if i == 0 else False"
   ]
  },
  {
   "cell_type": "markdown",
   "metadata": {},
   "source": [
    "## Create FL server agent and client agents\n",
    "In APPFL, we use agent to act on behalf of the FL server and FL clients to do necessary steps for the federated learning experiments. User can easily create the agents using the server/client configurations we loaded (and modified a little bit) from the configuration yaml file. Creating the client agents will load the loacal dataset and plot the data distribution visualization as shown below."
   ]
  },
  {
   "cell_type": "code",
   "execution_count": 6,
   "metadata": {},
   "outputs": [
    {
     "name": "stderr",
     "output_type": "stream",
     "text": [
      "[2024-04-23 00:31:08,031 INFO server]: Logging to ./output/result_Server_2024-04-23 00:31:08.txt\n",
      "[2024-04-23 00:31:08,038 INFO Client_1]: Logging to ./output/result_Client_1_2024-04-23 00:31:08.txt\n",
      "[2024-04-23 00:31:19,403 INFO Client_2]: Logging to ./output/result_Client_2_2024-04-23 00:31:19.txt\n",
      "[2024-04-23 00:31:28,981 INFO Client_3]: Logging to ./output/result_Client_3_2024-04-23 00:31:28.txt\n",
      "[2024-04-23 00:31:38,470 INFO Client_4]: Logging to ./output/result_Client_4_2024-04-23 00:31:38.txt\n",
      "[2024-04-23 00:31:47,924 INFO Client_5]: Logging to ./output/result_Client_5_2024-04-23 00:31:47.txt\n",
      "[2024-04-23 00:31:57,284 INFO Client_6]: Logging to ./output/result_Client_6_2024-04-23 00:31:57.txt\n",
      "[2024-04-23 00:32:06,539 INFO Client_7]: Logging to ./output/result_Client_7_2024-04-23 00:32:06.txt\n",
      "[2024-04-23 00:32:15,715 INFO Client_8]: Logging to ./output/result_Client_8_2024-04-23 00:32:15.txt\n",
      "[2024-04-23 00:32:24,991 INFO Client_9]: Logging to ./output/result_Client_9_2024-04-23 00:32:24.txt\n",
      "[2024-04-23 00:32:35,486 INFO Client_10]: Logging to ./output/result_Client_10_2024-04-23 00:32:35.txt\n"
     ]
    },
    {
     "data": {
      "image/png": "[encoded data removed]",
      "text/plain": [
       "<Figure size 2000x800 with 1 Axes>"
      ]
     },
     "metadata": {},
     "output_type": "display_data"
    }
   ],
   "source": [
    "from appfl.agent import ServerAgent, ClientAgent\n",
    "server_agent = ServerAgent(server_agent_config=server_config)\n",
    "client_agents =[\n",
    "    ClientAgent(client_agent_config=client_configs[i]) for i in range(num_clients)\n",
    "]"
   ]
  },
  {
   "cell_type": "markdown",
   "metadata": {},
   "source": [
    "## Start the training process"
   ]
  },
  {
   "cell_type": "markdown",
   "metadata": {},
   "source": [
    "The server configuration files contains many client configurations which should apply for ALL clients. Now, we need to get those configurations from the server and provide them to the client agents."
   ]
  },
  {
   "cell_type": "code",
   "execution_count": 7,
   "metadata": {},
   "outputs": [],
   "source": [
    "# Get additional client configurations from the server\n",
    "client_config_from_server = server_agent.get_client_configs()\n",
    "for client_agent in client_agents:\n",
    "    client_agent.load_config(client_config_from_server)"
   ]
  },
  {
   "cell_type": "markdown",
   "metadata": {},
   "source": [
    "Then, let the clients load initial global model from the server and optionally send the number of local data to the server for weighted aggregation.\n",
    "\n",
    "💡 **Note**: Typically, `server_agent.get_parameters()` blocks the result return or returns a `Future` object, and only returns the global model after receiving `num_clients` calls to synchronoize to process for clients to get the initial model, ensuring all the clients have the same initial model weights. However, as we are doing serial simulation, we don't want the blocking, so we pass `serail_run=True` when calling the function to get the global model immediately."
   ]
  },
  {
   "cell_type": "code",
   "execution_count": 8,
   "metadata": {},
   "outputs": [],
   "source": [
    "# Load initial global model from the server\n",
    "init_global_model = server_agent.get_parameters(serial_run=True)\n",
    "for client_agent in client_agents:\n",
    "    client_agent.load_parameters(init_global_model)\n",
    "\n",
    "# [Optional] Set number of local data to the server\n",
    "for i in range(num_clients):\n",
    "    sample_size = client_agents[i].get_sample_size()\n",
    "    server_agent.set_sample_size(\n",
    "        client_id=client_agents[i].get_id(), \n",
    "        sample_size=sample_size\n",
    "    )"
   ]
  },
  {
   "cell_type": "markdown",
   "metadata": {},
   "source": [
    "Now, we can start the training iterations. Please note the following points:\n",
    "\n",
    "- `server_agent.training_finished` will return a boolean flag indicating whether the training has reached the specified `num_global epochs`\n",
    "- `client_agent.train` trains the client local model using the client's \"local\" data\n",
    "- `server_agent.global_update` takes one client's local model together with a client id (can be get by `client_agent.get_id`) to schedule the global update for the client local model. For synchronous server aggregation algorithms such as `FedAvg`, they will not update the global model until receiving local models from all `num_clients=10` clients, so the call to `global_update` will return a `concurrent.futures.Future` object (if you set `blocking=False`, otherwise, it will block forever for serial simulation), which will be set after all client local models are sent for global update. \n",
    "- In the output log, `Pre Val?` means whether it is validation prior to the local training. As each client only holds data from 3 to 5 classes, the validation accuracy even drops after local training. However, the global model accuracy continues to increase, showcasing the capabilities of federated learning in improving the generalizability of the trained machine learning model."
   ]
  },
  {
   "cell_type": "code",
   "execution_count": 9,
   "metadata": {},
   "outputs": [
    {
     "name": "stderr",
     "output_type": "stream",
     "text": [
      "[2024-04-23 00:32:44,902 INFO Client_1]:      Round   Pre Val?       Time Train Loss Train Accuracy   Val Loss Val Accuracy\n",
      "[2024-04-23 00:32:47,161 INFO Client_1]:          0          Y                                          2.3033       8.2000\n",
      "[2024-04-23 00:32:58,506 INFO Client_1]:          0          N    11.3444     0.4024        91.0927    13.3278      30.3100\n",
      "[2024-04-23 00:32:58,511 INFO Client_2]:      Round   Pre Val?       Time Train Loss Train Accuracy   Val Loss Val Accuracy\n",
      "[2024-04-23 00:33:00,663 INFO Client_2]:          0          Y                                          2.3033       8.2000\n",
      "[2024-04-23 00:33:07,741 INFO Client_2]:          0          N     7.0775     0.3194        87.9844    10.7394      47.7000\n",
      "[2024-04-23 00:33:07,744 INFO Client_3]:      Round   Pre Val?       Time Train Loss Train Accuracy   Val Loss Val Accuracy\n",
      "[2024-04-23 00:33:09,748 INFO Client_3]:          0          Y                                          2.3033       8.2000\n",
      "[2024-04-23 00:33:16,825 INFO Client_3]:          0          N     7.0759     0.3547        87.3125    10.2872      37.7600\n",
      "[2024-04-23 00:33:16,827 INFO Client_4]:      Round   Pre Val?       Time Train Loss Train Accuracy   Val Loss Val Accuracy\n",
      "[2024-04-23 00:33:19,002 INFO Client_4]:          0          Y                                          2.3033       8.2000\n",
      "[2024-04-23 00:33:25,809 INFO Client_4]:          0          N     6.8062     0.4401        89.5541     9.2270      39.7000\n",
      "[2024-04-23 00:33:25,811 INFO Client_5]:      Round   Pre Val?       Time Train Loss Train Accuracy   Val Loss Val Accuracy\n",
      "[2024-04-23 00:33:27,984 INFO Client_5]:          0          Y                                          2.3033       8.2000\n",
      "[2024-04-23 00:33:35,395 INFO Client_5]:          0          N     7.4096     0.1764        93.2188    16.4938      29.4600\n",
      "[2024-04-23 00:33:35,398 INFO Client_6]:      Round   Pre Val?       Time Train Loss Train Accuracy   Val Loss Val Accuracy\n",
      "[2024-04-23 00:33:38,416 INFO Client_6]:          0          Y                                          2.3033       8.2000\n",
      "[2024-04-23 00:33:49,191 INFO Client_6]:          0          N    10.7716     0.5793        87.5039    15.0612      39.1600\n",
      "[2024-04-23 00:33:49,193 INFO Client_7]:      Round   Pre Val?       Time Train Loss Train Accuracy   Val Loss Val Accuracy\n",
      "[2024-04-23 00:33:51,976 INFO Client_7]:          0          Y                                          2.3033       8.2000\n",
      "[2024-04-23 00:34:01,341 INFO Client_7]:          0          N     9.3633     0.2710        87.4375     8.7782      48.2900\n",
      "[2024-04-23 00:34:01,383 INFO Client_8]:      Round   Pre Val?       Time Train Loss Train Accuracy   Val Loss Val Accuracy\n",
      "[2024-04-23 00:34:03,615 INFO Client_8]:          0          Y                                          2.3033       8.2000\n",
      "[2024-04-23 00:34:13,705 INFO Client_8]:          0          N    10.0884     0.3204        92.8796    14.6479      31.1300\n",
      "[2024-04-23 00:34:13,708 INFO Client_9]:      Round   Pre Val?       Time Train Loss Train Accuracy   Val Loss Val Accuracy\n",
      "[2024-04-23 00:34:16,634 INFO Client_9]:          0          Y                                          2.3033       8.2000\n",
      "[2024-04-23 00:34:26,959 INFO Client_9]:          0          N    10.3233     0.3423        86.2500    10.2628      50.0900\n",
      "[2024-04-23 00:34:26,962 INFO Client_10]:      Round   Pre Val?       Time Train Loss Train Accuracy   Val Loss Val Accuracy\n",
      "[2024-04-23 00:34:29,894 INFO Client_10]:          0          Y                                          2.3033       8.2000\n",
      "[2024-04-23 00:34:39,398 INFO Client_10]:          0          N     9.5029     0.2427        88.5312    11.5083      40.4700\n",
      "[2024-04-23 00:34:42,380 INFO Client_1]:          1          Y                                          1.7046      45.0500\n",
      "[2024-04-23 00:34:53,634 INFO Client_1]:          1          N    11.2517     0.1289        97.8554    10.2224      30.4500\n",
      "[2024-04-23 00:34:56,742 INFO Client_2]:          1          Y                                          1.7046      45.0500\n",
      "[2024-04-23 00:35:05,907 INFO Client_2]:          1          N     9.1629     0.1176        95.8125     6.1723      48.8700\n",
      "[2024-04-23 00:35:08,111 INFO Client_3]:          1          Y                                          1.7046      45.0500\n",
      "[2024-04-23 00:35:19,108 INFO Client_3]:          1          N    10.9958     0.1717        93.9375     7.9585      38.2200\n",
      "[2024-04-23 00:35:21,815 INFO Client_4]:          1          Y                                          1.7046      45.0500\n",
      "[2024-04-23 00:35:35,571 INFO Client_4]:          1          N    13.7548     0.1332        97.1640    10.0542      40.0000\n",
      "[2024-04-23 00:35:38,137 INFO Client_5]:          1          Y                                          1.7046      45.0500\n",
      "[2024-04-23 00:35:50,653 INFO Client_5]:          1          N    12.5144     0.0868        97.3438    12.5522      29.5200\n",
      "[2024-04-23 00:35:52,940 INFO Client_6]:          1          Y                                          1.7046      45.0500\n",
      "[2024-04-23 00:36:02,244 INFO Client_6]:          1          N     9.3011     0.2073        95.9609     9.7135      39.4400\n",
      "[2024-04-23 00:36:05,559 INFO Client_7]:          1          Y                                          1.7046      45.0500\n",
      "[2024-04-23 00:36:15,828 INFO Client_7]:          1          N    10.2668     0.1088        95.5469     6.0694      49.1100\n",
      "[2024-04-23 00:36:18,969 INFO Client_8]:          1          Y                                          1.7046      45.0500\n",
      "[2024-04-23 00:36:29,274 INFO Client_8]:          1          N    10.3033     0.1038        97.8733    10.2160      31.3000\n",
      "[2024-04-23 00:36:32,278 INFO Client_9]:          1          Y                                          1.7046      45.0500\n",
      "[2024-04-23 00:36:40,624 INFO Client_9]:          1          N     8.3449     0.1397        95.2656     6.7013      50.5700\n",
      "[2024-04-23 00:36:44,151 INFO Client_10]:          1          Y                                          1.7046      45.0500\n",
      "[2024-04-23 00:36:53,780 INFO Client_10]:          1          N     9.6270     0.1024        96.5469     9.9307      40.8400\n",
      "[2024-04-23 00:36:55,937 INFO Client_1]:          2          Y                                          0.9183      67.0900\n",
      "[2024-04-23 00:37:06,042 INFO Client_1]:          2          N    10.1027     0.0646        98.9512     7.2393      30.4100\n",
      "[2024-04-23 00:37:08,384 INFO Client_2]:          2          Y                                          0.9183      67.0900\n",
      "[2024-04-23 00:37:15,959 INFO Client_2]:          2          N     7.5740     0.0713        97.4375     5.7363      48.8700\n",
      "[2024-04-23 00:37:18,123 INFO Client_3]:          2          Y                                          0.9183      67.0900\n",
      "[2024-04-23 00:37:25,323 INFO Client_3]:          2          N     7.1976     0.0950        96.8750     7.5299      38.7300\n",
      "[2024-04-23 00:37:27,212 INFO Client_4]:          2          Y                                          0.9183      67.0900\n",
      "[2024-04-23 00:37:33,876 INFO Client_4]:          2          N     6.6626     0.0858        98.1724     7.7609      39.9100\n",
      "[2024-04-23 00:37:35,809 INFO Client_5]:          2          Y                                          0.9183      67.0900\n",
      "[2024-04-23 00:37:42,771 INFO Client_5]:          2          N     6.9592     0.0481        98.3438     8.6981      29.8100\n",
      "[2024-04-23 00:37:44,673 INFO Client_6]:          2          Y                                          0.9183      67.0900\n",
      "[2024-04-23 00:37:51,535 INFO Client_6]:          2          N     6.8616     0.1069        98.1382     7.9943      39.4800\n",
      "[2024-04-23 00:37:53,412 INFO Client_7]:          2          Y                                          0.9183      67.0900\n",
      "[2024-04-23 00:38:00,175 INFO Client_7]:          2          N     6.7614     0.0612        97.5312     5.5382      49.2100\n",
      "[2024-04-23 00:38:02,063 INFO Client_8]:          2          Y                                          0.9183      67.0900\n",
      "[2024-04-23 00:38:09,044 INFO Client_8]:          2          N     6.9792     0.0531        98.9445     7.8086      31.2900\n",
      "[2024-04-23 00:38:11,332 INFO Client_9]:          2          Y                                          0.9183      67.0900\n",
      "[2024-04-23 00:38:22,641 INFO Client_9]:          2          N    11.3071     0.0869        97.0469     4.8838      50.7900\n",
      "[2024-04-23 00:38:24,850 INFO Client_10]:          2          Y                                          0.9183      67.0900\n",
      "[2024-04-23 00:38:35,271 INFO Client_10]:          2          N    10.4187     0.0662        97.4844     7.7667      40.7900\n",
      "[2024-04-23 00:38:37,627 INFO Client_1]:          3          Y                                          0.6433      76.5200\n",
      "[2024-04-23 00:38:46,226 INFO Client_1]:          3          N     8.5969     0.0542        99.1703     7.0075      30.3700\n",
      "[2024-04-23 00:38:48,850 INFO Client_2]:          3          Y                                          0.6433      76.5200\n",
      "[2024-04-23 00:38:57,709 INFO Client_2]:          3          N     8.8580     0.0553        98.0469     5.5352      49.2600\n",
      "[2024-04-23 00:38:59,722 INFO Client_3]:          3          Y                                          0.6433      76.5200\n",
      "[2024-04-23 00:39:08,420 INFO Client_3]:          3          N     8.6961     0.0774        97.3438     7.4877      38.6800\n",
      "[2024-04-23 00:39:10,728 INFO Client_4]:          3          Y                                          0.6433      76.5200\n",
      "[2024-04-23 00:39:19,383 INFO Client_4]:          3          N     8.6532     0.0540        98.7396     8.3703      39.5300\n",
      "[2024-04-23 00:39:21,758 INFO Client_5]:          3          Y                                          0.6433      76.5200\n",
      "[2024-04-23 00:39:31,069 INFO Client_5]:          3          N     9.3091     0.0428        98.3438     6.6930      29.7600\n",
      "[2024-04-23 00:39:33,367 INFO Client_6]:          3          Y                                          0.6433      76.5200\n",
      "[2024-04-23 00:39:43,420 INFO Client_6]:          3          N    10.0508     0.0727        98.4538     6.9004      39.3400\n",
      "[2024-04-23 00:39:45,975 INFO Client_7]:          3          Y                                          0.6433      76.5200\n",
      "[2024-04-23 00:39:56,032 INFO Client_7]:          3          N    10.0556     0.0389        98.2969     4.4361      49.2000\n",
      "[2024-04-23 00:39:58,402 INFO Client_8]:          3          Y                                          0.6433      76.5200\n",
      "[2024-04-23 00:40:06,920 INFO Client_8]:          3          N     8.5166     0.0394        99.2281     7.0641      31.3500\n",
      "[2024-04-23 00:40:09,325 INFO Client_9]:          3          Y                                          0.6433      76.5200\n",
      "[2024-04-23 00:40:18,156 INFO Client_9]:          3          N     8.8290     0.0710        97.4531     6.2977      49.9100\n",
      "[2024-04-23 00:40:20,397 INFO Client_10]:          3          Y                                          0.6433      76.5200\n",
      "[2024-04-23 00:40:29,115 INFO Client_10]:          3          N     8.7167     0.0525        97.9531     7.3149      40.9200\n",
      "[2024-04-23 00:40:31,553 INFO Client_1]:          4          Y                                          0.4857      79.7200\n",
      "[2024-04-23 00:40:40,588 INFO Client_1]:          4          N     9.0303     0.0312        99.5147     7.7359      30.4900\n",
      "[2024-04-23 00:40:42,930 INFO Client_2]:          4          Y                                          0.4857      79.7200\n",
      "[2024-04-23 00:40:52,321 INFO Client_2]:          4          N     9.3897     0.0463        98.1562     4.0803      49.3100\n",
      "[2024-04-23 00:40:54,771 INFO Client_3]:          4          Y                                          0.4857      79.7200\n",
      "[2024-04-23 00:41:03,437 INFO Client_3]:          4          N     8.6637     0.0642        97.6250     4.9101      40.7800\n",
      "[2024-04-23 00:41:05,754 INFO Client_4]:          4          Y                                          0.4857      79.7200\n",
      "[2024-04-23 00:41:14,006 INFO Client_4]:          4          N     8.2496     0.0505        98.7868     5.2074      40.2000\n",
      "[2024-04-23 00:41:16,401 INFO Client_5]:          4          Y                                          0.4857      79.7200\n",
      "[2024-04-23 00:41:25,067 INFO Client_5]:          4          N     8.6645     0.0356        98.6719     6.6109      29.7400\n",
      "[2024-04-23 00:41:27,800 INFO Client_6]:          4          Y                                          0.4857      79.7200\n",
      "[2024-04-23 00:41:35,924 INFO Client_6]:          4          N     8.1224     0.0611        98.9271     6.2460      39.5100\n",
      "[2024-04-23 00:41:37,780 INFO Client_7]:          4          Y                                          0.4857      79.7200\n",
      "[2024-04-23 00:41:46,093 INFO Client_7]:          4          N     8.3118     0.0296        98.6562     5.0485      49.3900\n",
      "[2024-04-23 00:41:49,154 INFO Client_8]:          4          Y                                          0.4857      79.7200\n",
      "[2024-04-23 00:41:58,222 INFO Client_8]:          4          N     9.0664     0.0295        99.4329     5.3158      32.7400\n",
      "[2024-04-23 00:42:00,581 INFO Client_9]:          4          Y                                          0.4857      79.7200\n",
      "[2024-04-23 00:42:09,882 INFO Client_9]:          4          N     9.2988     0.0604        97.9375     4.9072      50.3800\n",
      "[2024-04-23 00:42:13,034 INFO Client_10]:          4          Y                                          0.4857      79.7200\n",
      "[2024-04-23 00:42:22,226 INFO Client_10]:          4          N     9.1891     0.0461        97.9219     5.1383      40.9600\n"
     ]
    }
   ],
   "source": [
    "while not server_agent.training_finished():\n",
    "    new_global_models = []\n",
    "    for client_agent in client_agents:\n",
    "        # Client local training\n",
    "        client_agent.train()\n",
    "        local_model = client_agent.get_parameters()\n",
    "        # \"Send\" local model to server and get a Future object for the new global model\n",
    "        # The Future object will be resolved when the server receives local models from all clients\n",
    "        new_global_model_future = server_agent.global_update(\n",
    "            client_id=client_agent.get_id(), \n",
    "            local_model=local_model,\n",
    "            blocking=False,\n",
    "        )\n",
    "        new_global_models.append(new_global_model_future)\n",
    "    # Load the new global model from the server\n",
    "    for client_agent, new_global_model_future in zip(client_agents, new_global_models):\n",
    "        client_agent.load_parameters(new_global_model_future.result())"
   ]
  }
 ],
 "metadata": {
  "kernelspec": {
   "display_name": "fedcompass",
   "language": "python",
   "name": "python3"
  },
  "language_info": {
   "codemirror_mode": {
    "name": "ipython",
    "version": 3
   },
   "file_extension": ".py",
   "mimetype": "text/x-python",
   "name": "python",
   "nbconvert_exporter": "python",
   "pygments_lexer": "ipython3",
   "version": "3.8.18"
  }
 },
 "nbformat": 4,
 "nbformat_minor": 2
}

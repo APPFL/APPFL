{
 "cells": [
  {
   "cell_type": "markdown",
   "metadata": {},
   "source": [
    "# FL Server over Secure RPC\n",
    "\n",
    "We demonstrate how to launch a gRPC server as a federated learning server with authentication. Consider only one client so that we can launch a server and a client (from another notebook) together."
   ]
  },
  {
   "cell_type": "code",
   "execution_count": 1,
   "metadata": {},
   "outputs": [],
   "source": [
    "num_clients = 1"
   ]
  },
  {
   "cell_type": "markdown",
   "metadata": {},
   "source": [
    "## Load server configurations\n",
    "\n",
    "In this example, we use the `FedAvg` server aggregation algorithm (while there is only one client for easy demo, the aggregation algorithm does not matter a lot though) and the MNIST dataset by loading the server configurations from `examples/resources/configs/mnist/server_fedavg.yaml`."
   ]
  },
  {
   "cell_type": "code",
   "execution_count": 2,
   "metadata": {},
   "outputs": [
    {
     "name": "stdout",
     "output_type": "stream",
     "text": [
      "client_configs:\n",
      "  train_configs:\n",
      "    trainer: VanillaTrainer\n",
      "    mode: step\n",
      "    num_local_steps: 100\n",
      "    optim: Adam\n",
      "    optim_args:\n",
      "      lr: 0.001\n",
      "    loss_fn_path: ./resources/loss/celoss.py\n",
      "    loss_fn_name: CELoss\n",
      "    do_validation: true\n",
      "    do_pre_validation: true\n",
      "    metric_path: ./resources/metric/acc.py\n",
      "    metric_name: accuracy\n",
      "    use_dp: false\n",
      "    epsilon: 1\n",
      "    clip_grad: false\n",
      "    clip_value: 1\n",
      "    clip_norm: 1\n",
      "    train_batch_size: 64\n",
      "    val_batch_size: 64\n",
      "    train_data_shuffle: true\n",
      "    val_data_shuffle: false\n",
      "  model_configs:\n",
      "    model_path: ./resources/model/cnn.py\n",
      "    model_name: CNN\n",
      "    model_kwargs:\n",
      "      num_channel: 1\n",
      "      num_classes: 10\n",
      "      num_pixel: 28\n",
      "  comm_configs:\n",
      "    compressor_configs:\n",
      "      enable_compression: false\n",
      "      lossy_compressor: SZ2Compressor\n",
      "      lossless_compressor: blosc\n",
      "      error_bounding_mode: REL\n",
      "      error_bound: 0.001\n",
      "      param_cutoff: 1024\n",
      "server_configs:\n",
      "  scheduler: SyncScheduler\n",
      "  scheduler_kwargs:\n",
      "    num_clients: 2\n",
      "    same_init_model: true\n",
      "  aggregator: FedAvgAggregator\n",
      "  aggregator_kwargs:\n",
      "    client_weights_mode: equal\n",
      "  device: cpu\n",
      "  num_global_epochs: 10\n",
      "  logging_output_dirname: ./output\n",
      "  logging_output_filename: result\n",
      "  comm_configs:\n",
      "    grpc_configs:\n",
      "      server_uri: localhost:50051\n",
      "      max_message_size: 1048576\n",
      "      use_ssl: false\n",
      "\n"
     ]
    }
   ],
   "source": [
    "from omegaconf import OmegaConf\n",
    "\n",
    "server_config_file = \"../../examples/resources/configs/mnist/server_fedavg.yaml\"\n",
    "server_config = OmegaConf.load(server_config_file)\n",
    "print(OmegaConf.to_yaml(server_config))"
   ]
  },
  {
   "cell_type": "markdown",
   "metadata": {},
   "source": [
    "💡 It should be noted that configuration fields such as `loss_fn_path`, `metric_path`, and `model_path` are the paths to the corresponding files, so we need to change their relative paths now to make sure the paths point to the right files. \n",
    "\n",
    "⚠️ We also need change `num_clients` in `server_configs.scheduler_kwargs` to 1."
   ]
  },
  {
   "cell_type": "code",
   "execution_count": 3,
   "metadata": {},
   "outputs": [],
   "source": [
    "server_config.client_configs.train_configs.loss_fn_path = (\n",
    "    \"../../examples/resources/loss/celoss.py\"\n",
    ")\n",
    "server_config.client_configs.train_configs.metric_path = (\n",
    "    \"../../examples/resources/metric/acc.py\"\n",
    ")\n",
    "server_config.client_configs.model_configs.model_path = (\n",
    "    \"../../examples/resources/model/cnn.py\"\n",
    ")\n",
    "server_config.server_configs.scheduler_kwargs.num_clients = num_clients"
   ]
  },
  {
   "cell_type": "markdown",
   "metadata": {},
   "source": [
    "## Create secure SSL server and authenticator\n",
    "\n",
    "Secure SSL server requires both *public certificate* and *private key* for data encryption. We have provided a example pair of [certificate](https://github.com/APPFL/APPFL/blob/main/src/appfl/comm/grpc/credentials/localhost.crt) and [key](https://github.com/APPFL/APPFL/blob/main/src/appfl/comm/grpc/credentials/localhost.key) for demonstration. **It should be noted that in practice, you should never share your key to others and keep it secretly**. \n",
    "\n",
    "💡 Please check this [tutorial](https://appfl.ai/en/latest/tutorials/examples_ssl.html) for more details on how to generate SSL certificates for securing the gRPC connections in practice.\n",
    "\n",
    "\n",
    "To enable the SSL channel and use the provided certificate and key, we need to set the following. If the user would like to use his own certificate and key, just change the corresponding field to the file path."
   ]
  },
  {
   "cell_type": "code",
   "execution_count": 4,
   "metadata": {},
   "outputs": [],
   "source": [
    "server_config.server_configs.comm_configs.grpc_configs.use_ssl = True\n",
    "server_config.server_configs.comm_configs.grpc_configs.server_certificate_key = (\n",
    "    \"../../src/appfl/comm/grpc/credentials/localhost.key\"\n",
    ")\n",
    "server_config.server_configs.comm_configs.grpc_configs.server_certificate = (\n",
    "    \"../../src/appfl/comm/grpc/credentials/localhost.crt\"\n",
    ")"
   ]
  },
  {
   "cell_type": "markdown",
   "metadata": {},
   "source": [
    "## Setup an authenticator\n",
    "\n",
    "Now we use a naive authenticator, where the server sets a special token and uses token-match to authenticate the client. \n",
    "\n",
    "💡 It should be noted that the naive authenticator is only for easy demonstration and is not really safe in practice to protect your FL experiment. We also provide Globus authenticator, and you can also define your own ones."
   ]
  },
  {
   "cell_type": "code",
   "execution_count": 5,
   "metadata": {},
   "outputs": [],
   "source": [
    "server_config.server_configs.comm_configs.grpc_configs.use_authenticator = True\n",
    "server_config.server_configs.comm_configs.grpc_configs.authenticator = (\n",
    "    \"NaiveAuthenticator\"\n",
    ")\n",
    "server_config.server_configs.comm_configs.grpc_configs.authenticator_args = {\n",
    "    \"auth_token\": \"A_SECRET_DEMO_TOKEN\"\n",
    "}"
   ]
  },
  {
   "cell_type": "markdown",
   "metadata": {},
   "source": [
    "## Start server\n",
    "\n",
    "Now, we are ready to create the server agent using the `server_config` defined and modified above and start the grpc server.\n",
    "\n",
    "After launching 🚀 the server, let's go to the notebook to launch the client to talk to the server!\n",
    "\n",
    "💡 After finishing the FL experiment, you need to manually stop the server."
   ]
  },
  {
   "cell_type": "code",
   "execution_count": 6,
   "metadata": {},
   "outputs": [
    {
     "name": "stderr",
     "output_type": "stream",
     "text": [
      "[2024-12-10 13:58:43,362 INFO server]: Logging to ./output/result_Server_2024-12-10-13:58:43.txt\n",
      "[2024-12-10 14:00:52,028 INFO server]: Received GetConfiguration request from client 2a1e31ab-aecb-4162-b18d-4fd570fdb2b1\n",
      "[2024-12-10 14:00:52,049 INFO server]: Received GetGlobalModel request from client 2a1e31ab-aecb-4162-b18d-4fd570fdb2b1\n",
      "[2024-12-10 14:00:52,065 INFO server]: Received InvokeCustomAction set_sample_size request from client 2a1e31ab-aecb-4162-b18d-4fd570fdb2b1\n",
      "[2024-12-10 14:00:56,058 INFO server]: Received UpdateGlobalModel request from client 2a1e31ab-aecb-4162-b18d-4fd570fdb2b1\n",
      "[2024-12-10 14:00:56,059 INFO server]: Received the following meta data from 2a1e31ab-aecb-4162-b18d-4fd570fdb2b1:\n",
      "{'pre_val_accuracy': 15.93,\n",
      " 'pre_val_loss': 2.30059186820012,\n",
      " 'round': 1,\n",
      " 'val_accuracy': 92.52,\n",
      " 'val_loss': 0.24899773440875445}\n",
      "[2024-12-10 14:00:59,971 INFO server]: Received UpdateGlobalModel request from client 2a1e31ab-aecb-4162-b18d-4fd570fdb2b1\n",
      "[2024-12-10 14:00:59,972 INFO server]: Received the following meta data from 2a1e31ab-aecb-4162-b18d-4fd570fdb2b1:\n",
      "{'pre_val_accuracy': 92.52,\n",
      " 'pre_val_loss': 0.24899773080210397,\n",
      " 'round': 2,\n",
      " 'val_accuracy': 97.24,\n",
      " 'val_loss': 0.09019839081684851}\n",
      "[2024-12-10 14:01:03,704 INFO server]: Received UpdateGlobalModel request from client 2a1e31ab-aecb-4162-b18d-4fd570fdb2b1\n",
      "[2024-12-10 14:01:03,704 INFO server]: Received the following meta data from 2a1e31ab-aecb-4162-b18d-4fd570fdb2b1:\n",
      "{'pre_val_accuracy': 97.24,\n",
      " 'pre_val_loss': 0.09019839188460688,\n",
      " 'round': 3,\n",
      " 'val_accuracy': 97.74,\n",
      " 'val_loss': 0.06984006808655467}\n",
      "[2024-12-10 14:01:07,462 INFO server]: Received UpdateGlobalModel request from client 2a1e31ab-aecb-4162-b18d-4fd570fdb2b1\n",
      "[2024-12-10 14:01:07,463 INFO server]: Received the following meta data from 2a1e31ab-aecb-4162-b18d-4fd570fdb2b1:\n",
      "{'pre_val_accuracy': 97.74,\n",
      " 'pre_val_loss': 0.06984006846990959,\n",
      " 'round': 4,\n",
      " 'val_accuracy': 98.26,\n",
      " 'val_loss': 0.05946172983700759}\n",
      "[2024-12-10 14:01:11,219 INFO server]: Received UpdateGlobalModel request from client 2a1e31ab-aecb-4162-b18d-4fd570fdb2b1\n",
      "[2024-12-10 14:01:11,219 INFO server]: Received the following meta data from 2a1e31ab-aecb-4162-b18d-4fd570fdb2b1:\n",
      "{'pre_val_accuracy': 98.26,\n",
      " 'pre_val_loss': 0.059461730080219224,\n",
      " 'round': 5,\n",
      " 'val_accuracy': 97.75,\n",
      " 'val_loss': 0.06825762419130173}\n",
      "[2024-12-10 14:01:14,975 INFO server]: Received UpdateGlobalModel request from client 2a1e31ab-aecb-4162-b18d-4fd570fdb2b1\n",
      "[2024-12-10 14:01:14,975 INFO server]: Received the following meta data from 2a1e31ab-aecb-4162-b18d-4fd570fdb2b1:\n",
      "{'pre_val_accuracy': 97.75,\n",
      " 'pre_val_loss': 0.06825762354026572,\n",
      " 'round': 6,\n",
      " 'val_accuracy': 98.46,\n",
      " 'val_loss': 0.04712522447257152}\n",
      "[2024-12-10 14:01:18,744 INFO server]: Received UpdateGlobalModel request from client 2a1e31ab-aecb-4162-b18d-4fd570fdb2b1\n",
      "[2024-12-10 14:01:18,744 INFO server]: Received the following meta data from 2a1e31ab-aecb-4162-b18d-4fd570fdb2b1:\n",
      "{'pre_val_accuracy': 98.46,\n",
      " 'pre_val_loss': 0.04712522340333015,\n",
      " 'round': 7,\n",
      " 'val_accuracy': 98.59,\n",
      " 'val_loss': 0.046061366701581674}\n",
      "[2024-12-10 14:01:22,501 INFO server]: Received UpdateGlobalModel request from client 2a1e31ab-aecb-4162-b18d-4fd570fdb2b1\n",
      "[2024-12-10 14:01:22,501 INFO server]: Received the following meta data from 2a1e31ab-aecb-4162-b18d-4fd570fdb2b1:\n",
      "{'pre_val_accuracy': 98.59,\n",
      " 'pre_val_loss': 0.04606136574690189,\n",
      " 'round': 8,\n",
      " 'val_accuracy': 98.61,\n",
      " 'val_loss': 0.043511269979219135}\n",
      "[2024-12-10 14:01:26,242 INFO server]: Received UpdateGlobalModel request from client 2a1e31ab-aecb-4162-b18d-4fd570fdb2b1\n",
      "[2024-12-10 14:01:26,243 INFO server]: Received the following meta data from 2a1e31ab-aecb-4162-b18d-4fd570fdb2b1:\n",
      "{'pre_val_accuracy': 98.61,\n",
      " 'pre_val_loss': 0.04351127057464272,\n",
      " 'round': 9,\n",
      " 'val_accuracy': 98.39,\n",
      " 'val_loss': 0.050683501800322}\n",
      "[2024-12-10 14:01:30,045 INFO server]: Received UpdateGlobalModel request from client 2a1e31ab-aecb-4162-b18d-4fd570fdb2b1\n",
      "[2024-12-10 14:01:30,046 INFO server]: Received the following meta data from 2a1e31ab-aecb-4162-b18d-4fd570fdb2b1:\n",
      "{'pre_val_accuracy': 98.39,\n",
      " 'pre_val_loss': 0.050683501836655445,\n",
      " 'round': 10,\n",
      " 'val_accuracy': 98.91,\n",
      " 'val_loss': 0.03341836121287731}\n",
      "[2024-12-10 14:01:30,056 INFO server]: Received InvokeCustomAction close_connection request from client 2a1e31ab-aecb-4162-b18d-4fd570fdb2b1\n"
     ]
    },
    {
     "name": "stdout",
     "output_type": "stream",
     "text": [
      "Terminating the server ...\n"
     ]
    }
   ],
   "source": [
    "from appfl.agent import ServerAgent\n",
    "from appfl.comm.grpc import GRPCServerCommunicator, serve\n",
    "\n",
    "server_agent = ServerAgent(server_agent_config=server_config)\n",
    "\n",
    "communicator = GRPCServerCommunicator(\n",
    "    server_agent,\n",
    "    max_message_size=server_config.server_configs.comm_configs.grpc_configs.max_message_size,\n",
    "    logger=server_agent.logger,\n",
    ")\n",
    "\n",
    "serve(\n",
    "    communicator,\n",
    "    **server_config.server_configs.comm_configs.grpc_configs,\n",
    ")"
   ]
  }
 ],
 "metadata": {
  "kernelspec": {
   "display_name": "appfl",
   "language": "python",
   "name": "python3"
  },
  "language_info": {
   "codemirror_mode": {
    "name": "ipython",
    "version": 3
   },
   "file_extension": ".py",
   "mimetype": "text/x-python",
   "name": "python",
   "nbconvert_exporter": "python",
   "pygments_lexer": "ipython3",
   "version": "3.10.14"
  },
  "orig_nbformat": 4
 },
 "nbformat": 4,
 "nbformat_minor": 2
}

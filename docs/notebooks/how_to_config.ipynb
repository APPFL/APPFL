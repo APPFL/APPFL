{
 "cells": [
  {
   "cell_type": "markdown",
   "metadata": {},
   "source": [
    "# How to set configuration\n",
    "\n",
    "All runs use [OmegaConf](https://omegaconf.readthedocs.io/), a hierarchical configuration system.\n",
    "\n",
    "## Load default configuration\n",
    "\n",
    "Every run requires to set the configuration defined in `DictConfig` format. We can easily load the default configuration setting by"
   ]
  },
  {
   "cell_type": "code",
   "execution_count": 3,
   "metadata": {},
   "outputs": [],
   "source": [
    "from appfl.config import *\n",
    "cfg: DictConfig = OmegaConf.structured(Config)"
   ]
  },
  {
   "cell_type": "markdown",
   "metadata": {},
   "source": [
    "The configuration `cfg` is initialized with the default values. Let's check the configuration values."
   ]
  },
  {
   "cell_type": "code",
   "execution_count": 4,
   "metadata": {},
   "outputs": [
    {
     "name": "stdout",
     "output_type": "stream",
     "text": [
      "fed:\n",
      "  type: fedavg\n",
      "  servername: FedAvgServer\n",
      "  clientname: FedAvgClient\n",
      "  args:\n",
      "    num_local_epochs: 1\n",
      "    loss_type: torch.nn.CrossEntropyLoss()\n",
      "    optim: SGD\n",
      "    optim_args:\n",
      "      lr: 0.01\n",
      "      momentum: 0.9\n",
      "      weight_decay: 1.0e-05\n",
      "    epsilon: false\n",
      "    clip_value: false\n",
      "    clip_norm: 1\n",
      "num_epochs: 2\n",
      "batch_training: true\n",
      "train_data_batch_size: 64\n",
      "train_data_shuffle: false\n",
      "test_data_batch_size: 64\n",
      "test_data_shuffle: false\n",
      "load_model: false\n",
      "load_model_dirname: ''\n",
      "load_model_filename: ''\n",
      "save_model: false\n",
      "save_model_dirname: ''\n",
      "save_model_filename: ''\n",
      "output_dirname: ./outputs\n",
      "output_filename: result\n",
      "device: cpu\n",
      "validation: true\n",
      "max_message_size: 10485760\n",
      "operator:\n",
      "  id: 1\n",
      "server:\n",
      "  id: 1\n",
      "  host: localhost\n",
      "  port: 50051\n",
      "  use_tls: false\n",
      "  api_key: null\n",
      "client:\n",
      "  id: 1\n",
      "\n"
     ]
    }
   ],
   "source": [
    "print(OmegaConf.to_yaml(cfg))"
   ]
  },
  {
   "cell_type": "markdown",
   "metadata": {},
   "source": [
    "Most variables are self-explanatory.\n",
    "\n",
    "- Variable ``fed`` sets the choice of algorithms, each of which is also defined as a dataclass. The classes should be accessible by ``appfl.config.fed.*``. \n",
    "- gRPC configurations:\n",
    "  - ``max_message_size``: the maximum size of data to be sent or received in a single RPC call, default 10 MB. If the size of weights for a single neuron is larger than 10 MB, you need to increase this value.\n",
    "  - ``host``: the URL of a server\n",
    "  - ``port``: the port number of a server\n",
    "\n",
    "\n",
    "## Initialize configuration with arguments\n",
    "\n",
    "We can also initialize the configuration with other values. For example, the following code is loading the configuration with the algorithm choice of `IIADMM`."
   ]
  },
  {
   "cell_type": "code",
   "execution_count": 5,
   "metadata": {},
   "outputs": [
    {
     "name": "stdout",
     "output_type": "stream",
     "text": [
      "type: iiadmm\n",
      "servername: IIADMMServer\n",
      "clientname: IIADMMClient\n",
      "args:\n",
      "  num_local_epochs: 1\n",
      "  loss_type: torch.nn.CrossEntropyLoss()\n",
      "  accum_grad: true\n",
      "  coeff_grad: false\n",
      "  optim: SGD\n",
      "  optim_args:\n",
      "    lr: 0.01\n",
      "  init_penalty: 100.0\n",
      "  residual_balancing:\n",
      "    res_on: false\n",
      "    res_on_every_update: false\n",
      "    tau: 1.1\n",
      "    mu: 10\n",
      "  epsilon: false\n",
      "  clip_value: false\n",
      "  clip_norm: 1\n",
      "\n"
     ]
    }
   ],
   "source": [
    "cfg: DictConfig = OmegaConf.structured(Config(\n",
    "    fed = fed.iiadmm.IIADMM()\n",
    "))\n",
    "print(OmegaConf.to_yaml(cfg.fed))"
   ]
  },
  {
   "cell_type": "markdown",
   "metadata": {},
   "source": [
    "## Change configuration values\n",
    "\n",
    "We can also change the configuration value after initialization. For example, we can change `fed` variable as follows:"
   ]
  },
  {
   "cell_type": "code",
   "execution_count": 6,
   "metadata": {},
   "outputs": [
    {
     "name": "stdout",
     "output_type": "stream",
     "text": [
      "type: fedavg\n",
      "servername: FedAvgServer\n",
      "clientname: FedAvgClient\n",
      "args:\n",
      "  num_local_epochs: 1\n",
      "  loss_type: torch.nn.CrossEntropyLoss()\n",
      "  optim: SGD\n",
      "  optim_args:\n",
      "    lr: 0.01\n",
      "    momentum: 0.9\n",
      "    weight_decay: 1.0e-05\n",
      "  epsilon: false\n",
      "  clip_value: false\n",
      "  clip_norm: 1\n",
      "\n"
     ]
    }
   ],
   "source": [
    "cfg: DictConfig = OmegaConf.structured(Config)\n",
    "my_fed: DictConfig = OmegaConf.structured(fed.fedavg.FedAvg)\n",
    "cfg.fed = my_fed\n",
    "print(OmegaConf.to_yaml(cfg.fed))"
   ]
  },
  {
   "cell_type": "markdown",
   "metadata": {},
   "source": [
    "The type of a loss function can be user-defined. For example, \"torch.nn.BCELoss()\" can be set for a binary classification problem and \"torch.nn.CrossEntropyLoss()\" for a multiclass classification problem."
   ]
  },
  {
   "cell_type": "code",
   "execution_count": 10,
   "metadata": {},
   "outputs": [
    {
     "name": "stdout",
     "output_type": "stream",
     "text": [
      "type: fedavg\n",
      "servername: FedAvgServer\n",
      "clientname: FedAvgClient\n",
      "args:\n",
      "  num_local_epochs: 1\n",
      "  loss_type: torch.nn.BCELoss()\n",
      "  optim: SGD\n",
      "  optim_args:\n",
      "    lr: 0.01\n",
      "    momentum: 0.9\n",
      "    weight_decay: 1.0e-05\n",
      "  epsilon: false\n",
      "  clip_value: false\n",
      "  clip_norm: 1\n"
     ]
    },
    {
     "ename": "KeyboardInterrupt",
     "evalue": "",
     "output_type": "error",
     "traceback": [
      "\u001b[0;31m---------------------------------------------------------------------------\u001b[0m",
      "\u001b[0;31mKeyboardInterrupt\u001b[0m                         Traceback (most recent call last)",
      "\u001b[1;32m/Users/mryu/Desktop/APPFL/docs/notebooks/how_to_config.ipynb Cell 9'\u001b[0m in \u001b[0;36m<module>\u001b[0;34m\u001b[0m\n\u001b[1;32m      <a href='vscode-notebook-cell:/Users/mryu/Desktop/APPFL/docs/notebooks/how_to_config.ipynb#ch0000008?line=0'>1</a>\u001b[0m cfg\u001b[39m.\u001b[39mfed\u001b[39m.\u001b[39margs\u001b[39m.\u001b[39mloss_type \u001b[39m=\u001b[39m \u001b[39m\"\u001b[39m\u001b[39mtorch.nn.BCELoss()\u001b[39m\u001b[39m\"\u001b[39m\n\u001b[0;32m----> <a href='vscode-notebook-cell:/Users/mryu/Desktop/APPFL/docs/notebooks/how_to_config.ipynb#ch0000008?line=1'>2</a>\u001b[0m \u001b[39mprint\u001b[39;49m(OmegaConf\u001b[39m.\u001b[39;49mto_yaml(cfg\u001b[39m.\u001b[39;49mfed))\n",
      "File \u001b[0;32m~/opt/anaconda3/envs/APPFL/lib/python3.9/site-packages/ipykernel/iostream.py:541\u001b[0m, in \u001b[0;36mOutStream.write\u001b[0;34m(self, string)\u001b[0m\n\u001b[1;32m    <a href='file:///Users/mryu/opt/anaconda3/envs/APPFL/lib/python3.9/site-packages/ipykernel/iostream.py?line=538'>539</a>\u001b[0m         \u001b[39mself\u001b[39m\u001b[39m.\u001b[39mpub_thread\u001b[39m.\u001b[39mschedule(\u001b[39mself\u001b[39m\u001b[39m.\u001b[39m_flush)\n\u001b[1;32m    <a href='file:///Users/mryu/opt/anaconda3/envs/APPFL/lib/python3.9/site-packages/ipykernel/iostream.py?line=539'>540</a>\u001b[0m     \u001b[39melse\u001b[39;00m:\n\u001b[0;32m--> <a href='file:///Users/mryu/opt/anaconda3/envs/APPFL/lib/python3.9/site-packages/ipykernel/iostream.py?line=540'>541</a>\u001b[0m         \u001b[39mself\u001b[39;49m\u001b[39m.\u001b[39;49m_schedule_flush()\n\u001b[1;32m    <a href='file:///Users/mryu/opt/anaconda3/envs/APPFL/lib/python3.9/site-packages/ipykernel/iostream.py?line=542'>543</a>\u001b[0m \u001b[39mreturn\u001b[39;00m \u001b[39mlen\u001b[39m(string)\n",
      "File \u001b[0;32m~/opt/anaconda3/envs/APPFL/lib/python3.9/site-packages/ipykernel/iostream.py:451\u001b[0m, in \u001b[0;36mOutStream._schedule_flush\u001b[0;34m(self)\u001b[0m\n\u001b[1;32m    <a href='file:///Users/mryu/opt/anaconda3/envs/APPFL/lib/python3.9/site-packages/ipykernel/iostream.py?line=448'>449</a>\u001b[0m \u001b[39mdef\u001b[39;00m \u001b[39m_schedule_in_thread\u001b[39m():\n\u001b[1;32m    <a href='file:///Users/mryu/opt/anaconda3/envs/APPFL/lib/python3.9/site-packages/ipykernel/iostream.py?line=449'>450</a>\u001b[0m     \u001b[39mself\u001b[39m\u001b[39m.\u001b[39m_io_loop\u001b[39m.\u001b[39mcall_later(\u001b[39mself\u001b[39m\u001b[39m.\u001b[39mflush_interval, \u001b[39mself\u001b[39m\u001b[39m.\u001b[39m_flush)\n\u001b[0;32m--> <a href='file:///Users/mryu/opt/anaconda3/envs/APPFL/lib/python3.9/site-packages/ipykernel/iostream.py?line=450'>451</a>\u001b[0m \u001b[39mself\u001b[39;49m\u001b[39m.\u001b[39;49mpub_thread\u001b[39m.\u001b[39;49mschedule(_schedule_in_thread)\n",
      "File \u001b[0;32m~/opt/anaconda3/envs/APPFL/lib/python3.9/site-packages/ipykernel/iostream.py:216\u001b[0m, in \u001b[0;36mIOPubThread.schedule\u001b[0;34m(self, f)\u001b[0m\n\u001b[1;32m    <a href='file:///Users/mryu/opt/anaconda3/envs/APPFL/lib/python3.9/site-packages/ipykernel/iostream.py?line=213'>214</a>\u001b[0m     \u001b[39mself\u001b[39m\u001b[39m.\u001b[39m_events\u001b[39m.\u001b[39mappend(f)\n\u001b[1;32m    <a href='file:///Users/mryu/opt/anaconda3/envs/APPFL/lib/python3.9/site-packages/ipykernel/iostream.py?line=214'>215</a>\u001b[0m     \u001b[39m# wake event thread (message content is ignored)\u001b[39;00m\n\u001b[0;32m--> <a href='file:///Users/mryu/opt/anaconda3/envs/APPFL/lib/python3.9/site-packages/ipykernel/iostream.py?line=215'>216</a>\u001b[0m     \u001b[39mself\u001b[39;49m\u001b[39m.\u001b[39;49m_event_pipe\u001b[39m.\u001b[39;49msend(\u001b[39mb\u001b[39;49m\u001b[39m'\u001b[39;49m\u001b[39m'\u001b[39;49m)\n\u001b[1;32m    <a href='file:///Users/mryu/opt/anaconda3/envs/APPFL/lib/python3.9/site-packages/ipykernel/iostream.py?line=216'>217</a>\u001b[0m \u001b[39melse\u001b[39;00m:\n\u001b[1;32m    <a href='file:///Users/mryu/opt/anaconda3/envs/APPFL/lib/python3.9/site-packages/ipykernel/iostream.py?line=217'>218</a>\u001b[0m     f()\n",
      "File \u001b[0;32m~/opt/anaconda3/envs/APPFL/lib/python3.9/site-packages/zmq/sugar/socket.py:547\u001b[0m, in \u001b[0;36mSocket.send\u001b[0;34m(self, data, flags, copy, track, routing_id, group)\u001b[0m\n\u001b[1;32m    <a href='file:///Users/mryu/opt/anaconda3/envs/APPFL/lib/python3.9/site-packages/zmq/sugar/socket.py?line=539'>540</a>\u001b[0m         data \u001b[39m=\u001b[39m zmq\u001b[39m.\u001b[39mFrame(\n\u001b[1;32m    <a href='file:///Users/mryu/opt/anaconda3/envs/APPFL/lib/python3.9/site-packages/zmq/sugar/socket.py?line=540'>541</a>\u001b[0m             data,\n\u001b[1;32m    <a href='file:///Users/mryu/opt/anaconda3/envs/APPFL/lib/python3.9/site-packages/zmq/sugar/socket.py?line=541'>542</a>\u001b[0m             track\u001b[39m=\u001b[39mtrack,\n\u001b[1;32m    <a href='file:///Users/mryu/opt/anaconda3/envs/APPFL/lib/python3.9/site-packages/zmq/sugar/socket.py?line=542'>543</a>\u001b[0m             copy\u001b[39m=\u001b[39mcopy \u001b[39mor\u001b[39;00m \u001b[39mNone\u001b[39;00m,\n\u001b[1;32m    <a href='file:///Users/mryu/opt/anaconda3/envs/APPFL/lib/python3.9/site-packages/zmq/sugar/socket.py?line=543'>544</a>\u001b[0m             copy_threshold\u001b[39m=\u001b[39m\u001b[39mself\u001b[39m\u001b[39m.\u001b[39mcopy_threshold,\n\u001b[1;32m    <a href='file:///Users/mryu/opt/anaconda3/envs/APPFL/lib/python3.9/site-packages/zmq/sugar/socket.py?line=544'>545</a>\u001b[0m         )\n\u001b[1;32m    <a href='file:///Users/mryu/opt/anaconda3/envs/APPFL/lib/python3.9/site-packages/zmq/sugar/socket.py?line=545'>546</a>\u001b[0m     data\u001b[39m.\u001b[39mgroup \u001b[39m=\u001b[39m group\n\u001b[0;32m--> <a href='file:///Users/mryu/opt/anaconda3/envs/APPFL/lib/python3.9/site-packages/zmq/sugar/socket.py?line=546'>547</a>\u001b[0m \u001b[39mreturn\u001b[39;00m \u001b[39msuper\u001b[39;49m(Socket, \u001b[39mself\u001b[39;49m)\u001b[39m.\u001b[39;49msend(data, flags\u001b[39m=\u001b[39;49mflags, copy\u001b[39m=\u001b[39;49mcopy, track\u001b[39m=\u001b[39;49mtrack)\n",
      "File \u001b[0;32mzmq/backend/cython/socket.pyx:718\u001b[0m, in \u001b[0;36mzmq.backend.cython.socket.Socket.send\u001b[0;34m()\u001b[0m\n",
      "File \u001b[0;32mzmq/backend/cython/socket.pyx:765\u001b[0m, in \u001b[0;36mzmq.backend.cython.socket.Socket.send\u001b[0;34m()\u001b[0m\n",
      "File \u001b[0;32mzmq/backend/cython/socket.pyx:242\u001b[0m, in \u001b[0;36mzmq.backend.cython.socket._send_copy\u001b[0;34m()\u001b[0m\n",
      "File \u001b[0;32m~/opt/anaconda3/envs/APPFL/lib/python3.9/site-packages/zmq/backend/cython/checkrc.pxd:13\u001b[0m, in \u001b[0;36mzmq.backend.cython.checkrc._check_rc\u001b[0;34m()\u001b[0m\n",
      "\u001b[0;31mKeyboardInterrupt\u001b[0m: "
     ]
    }
   ],
   "source": [
    "cfg.fed.args.loss_type = \"torch.nn.BCELoss()\"\n",
    "print(OmegaConf.to_yaml(cfg.fed))"
   ]
  }
 ],
 "metadata": {
  "interpreter": {
   "hash": "bb0952294ed511bac0bf0d9b61bd0d7bb458375e96b8e80fffe2201530f686f4"
  },
  "kernelspec": {
   "display_name": "Python 3.8.12 64-bit ('APPFL': conda)",
   "language": "python",
   "name": "python3"
  },
  "language_info": {
   "codemirror_mode": {
    "name": "ipython",
    "version": 3
   },
   "file_extension": ".py",
   "mimetype": "text/x-python",
   "name": "python",
   "nbconvert_exporter": "python",
   "pygments_lexer": "ipython3",
   "version": "3.9.7"
  },
  "orig_nbformat": 4
 },
 "nbformat": 4,
 "nbformat_minor": 2
}

{
 "cells": [
  {
   "cell_type": "markdown",
   "metadata": {},
   "source": [
    "# Launch gRPC server\n",
    "\n",
    "We present how to launch a gRPC server. Consider only one client so that we can launch a server and a client (from another notebook) together."
   ]
  },
  {
   "cell_type": "code",
   "execution_count": 1,
   "metadata": {},
   "outputs": [],
   "source": [
    "num_clients = 1"
   ]
  },
  {
   "cell_type": "markdown",
   "metadata": {},
   "source": [
    "## Import dependencies\n",
    "\n",
    "We put all the imports here. \n",
    "Our framework `appfl` is backboned by `torch` and its neural network model `torch.nn`. We also import `torchvision` to download the `MNIST` dataset.\n",
    "More importantly, we need to import `appfl.run_grpc_server` module."
   ]
  },
  {
   "cell_type": "code",
   "execution_count": 2,
   "metadata": {},
   "outputs": [],
   "source": [
    "import numpy as np\n",
    "import math\n",
    "import torch\n",
    "import torch.nn as nn\n",
    "import torchvision\n",
    "from torchvision.transforms import ToTensor\n",
    "\n",
    "from appfl.config import *\n",
    "from appfl.misc.data import *\n",
    "import appfl.run_grpc_server as grpc_server"
   ]
  },
  {
   "cell_type": "markdown",
   "metadata": {},
   "source": [
    "## Test dataset\n",
    "\n",
    "The test data needs to be wrapped in `Dataset` object. Note that the server does not need (or have) any train data."
   ]
  },
  {
   "cell_type": "code",
   "execution_count": 3,
   "metadata": {},
   "outputs": [],
   "source": [
    "test_data_raw = torchvision.datasets.MNIST(\n",
    "    \"./_data\", train=False, download=False, transform=ToTensor()\n",
    ")\n",
    "test_data_input = []\n",
    "test_data_label = []\n",
    "for idx in range(len(test_data_raw)):\n",
    "    test_data_input.append(test_data_raw[idx][0].tolist())\n",
    "    test_data_label.append(test_data_raw[idx][1])\n",
    "\n",
    "test_dataset = Dataset(\n",
    "    torch.FloatTensor(test_data_input), torch.tensor(test_data_label)\n",
    ")"
   ]
  },
  {
   "cell_type": "markdown",
   "metadata": {},
   "source": [
    "## User-defined model\n",
    "\n",
    "Users can define their own models by deriving `torch.nn.Module`. For example in this simulation, we define the following convolutional neural network."
   ]
  },
  {
   "cell_type": "code",
   "execution_count": 4,
   "metadata": {},
   "outputs": [],
   "source": [
    "class CNN(nn.Module):\n",
    "    def __init__(self, num_channel=1, num_classes=10, num_pixel=28):\n",
    "        super().__init__()\n",
    "        self.conv1 = nn.Conv2d(\n",
    "            num_channel, 32, kernel_size=5, padding=0, stride=1, bias=True\n",
    "        )\n",
    "        self.conv2 = nn.Conv2d(32, 64, kernel_size=5, padding=0, stride=1, bias=True)\n",
    "        self.maxpool = nn.MaxPool2d(kernel_size=(2, 2))\n",
    "        self.act = nn.ReLU(inplace=True)\n",
    "\n",
    "        X = num_pixel\n",
    "        X = math.floor(1 + (X + 2 * 0 - 1 * (5 - 1) - 1) / 1)\n",
    "        X = X / 2\n",
    "        X = math.floor(1 + (X + 2 * 0 - 1 * (5 - 1) - 1) / 1)\n",
    "        X = X / 2\n",
    "        X = int(X)\n",
    "\n",
    "        self.fc1 = nn.Linear(64 * X * X, 512)\n",
    "        self.fc2 = nn.Linear(512, num_classes)\n",
    "\n",
    "    def forward(self, x):\n",
    "        x = self.act(self.conv1(x))\n",
    "        x = self.maxpool(x)\n",
    "        x = self.act(self.conv2(x))\n",
    "        x = self.maxpool(x)\n",
    "        x = torch.flatten(x, 1)\n",
    "        x = self.act(self.fc1(x))\n",
    "        x = self.fc2(x)\n",
    "        return x\n",
    "\n",
    "model = CNN()"
   ]
  },
  {
   "cell_type": "markdown",
   "metadata": {},
   "source": [
    "## Runs with configuration\n",
    "\n",
    "We run the `appfl` training with the data and model defined above. \n",
    "A number of parameters can be easily set by changing the configuration values.\n",
    "\n",
    "We read the configuration from `appfl.config.Config` class, which is stored in a dictionary."
   ]
  },
  {
   "cell_type": "code",
   "execution_count": 5,
   "metadata": {},
   "outputs": [
    {
     "name": "stdout",
     "output_type": "stream",
     "text": [
      "fed:\n",
      "  type: fedavg\n",
      "  servername: FedAvgServer\n",
      "  clientname: FedAvgClient\n",
      "  args:\n",
      "    num_local_epochs: 1\n",
      "    optim: SGD\n",
      "    optim_args:\n",
      "      lr: 0.01\n",
      "      momentum: 0.9\n",
      "      weight_decay: 1.0e-05\n",
      "    epsilon: false\n",
      "    clip_value: false\n",
      "    clip_norm: 1\n",
      "num_epochs: 2\n",
      "batch_training: true\n",
      "train_data_batch_size: 64\n",
      "train_data_shuffle: false\n",
      "test_data_batch_size: 64\n",
      "test_data_shuffle: false\n",
      "result_dir: ./results\n",
      "device: cpu\n",
      "validation: true\n",
      "max_message_size: 10485760\n",
      "operator:\n",
      "  id: 1\n",
      "server:\n",
      "  id: 1\n",
      "  host: localhost\n",
      "  port: 50051\n",
      "client:\n",
      "  id: 1\n",
      "\n"
     ]
    }
   ],
   "source": [
    "cfg = OmegaConf.structured(Config)\n",
    "print(OmegaConf.to_yaml(cfg))"
   ]
  },
  {
   "cell_type": "markdown",
   "metadata": {},
   "source": [
    "Make sure that we see some server-side logs..."
   ]
  },
  {
   "cell_type": "code",
   "execution_count": 6,
   "metadata": {},
   "outputs": [],
   "source": [
    "import sys\n",
    "import logging\n",
    "logging.basicConfig(stream=sys.stdout, level=logging.INFO)"
   ]
  },
  {
   "cell_type": "markdown",
   "metadata": {},
   "source": [
    "And, we can start training with the configuration `cfg`."
   ]
  },
  {
   "cell_type": "code",
   "execution_count": 7,
   "metadata": {},
   "outputs": [
    {
     "name": "stdout",
     "output_type": "stream",
     "text": [
      "Starting the server to listen to requests from clients . . .\n",
      "INFO:appfl.protos.server:[Servicer ID:  01] Received WeightRequest from (client,size)=(0,60000)\n",
      "INFO:appfl.protos.server:[Servicer ID:  01] Received JobRequest from client 0 job_done 0\n",
      "INFO:appfl.protos.server:[Servicer ID:  01] Received TensorRequest from (client,name,round)=(0,conv1.weight,1)\n",
      "INFO:appfl.protos.server:[Servicer ID:  01] Received TensorRequest from (client,name,round)=(0,conv1.bias,1)\n",
      "INFO:appfl.protos.server:[Servicer ID:  01] Received TensorRequest from (client,name,round)=(0,conv2.weight,1)\n",
      "INFO:appfl.protos.server:[Servicer ID:  01] Received TensorRequest from (client,name,round)=(0,conv2.bias,1)\n",
      "INFO:appfl.protos.server:[Servicer ID:  01] Received TensorRequest from (client,name,round)=(0,fc1.weight,1)\n",
      "INFO:appfl.protos.server:[Servicer ID:  01] Received TensorRequest from (client,name,round)=(0,fc1.bias,1)\n",
      "INFO:appfl.protos.server:[Servicer ID:  01] Received TensorRequest from (client,name,round)=(0,fc2.weight,1)\n",
      "INFO:appfl.protos.server:[Servicer ID:  01] Received TensorRequest from (client,name,round)=(0,fc2.bias,1)\n",
      "INFO:appfl.protos.operator:[Round:  001] Finished; all clients have sent their results.\n",
      "INFO:appfl.protos.operator:[Round:  001] Updating model weights\n",
      "INFO:appfl.protos.operator:[Round:  001] Test set: Average loss: 0.1367, Accuracy: 95.65%, Best Accuracy: 95.65%\n",
      "INFO:appfl.protos.server:[Servicer ID:  01] Received JobRequest from client 0 job_done 2\n",
      "INFO:appfl.protos.server:[Servicer ID:  01] Received TensorRequest from (client,name,round)=(0,conv1.weight,2)\n",
      "INFO:appfl.protos.server:[Servicer ID:  01] Received TensorRequest from (client,name,round)=(0,conv1.bias,2)\n",
      "INFO:appfl.protos.server:[Servicer ID:  01] Received TensorRequest from (client,name,round)=(0,conv2.weight,2)\n",
      "INFO:appfl.protos.server:[Servicer ID:  01] Received TensorRequest from (client,name,round)=(0,conv2.bias,2)\n",
      "INFO:appfl.protos.server:[Servicer ID:  01] Received TensorRequest from (client,name,round)=(0,fc1.weight,2)\n",
      "INFO:appfl.protos.server:[Servicer ID:  01] Received TensorRequest from (client,name,round)=(0,fc1.bias,2)\n",
      "INFO:appfl.protos.server:[Servicer ID:  01] Received TensorRequest from (client,name,round)=(0,fc2.weight,2)\n",
      "INFO:appfl.protos.server:[Servicer ID:  01] Received TensorRequest from (client,name,round)=(0,fc2.bias,2)\n",
      "INFO:appfl.protos.operator:[Round:  002] Finished; all clients have sent their results.\n",
      "INFO:appfl.protos.operator:[Round:  002] Updating model weights\n",
      "INFO:appfl.protos.operator:[Round:  002] Test set: Average loss: 0.0553, Accuracy: 98.05%, Best Accuracy: 98.05%\n",
      "INFO:appfl.protos.server:[Servicer ID:  01] Received JobRequest from client 0 job_done 2\n",
      "INFO:appfl.protos.server:[Servicer ID:  01] Received TensorRequest from (client,name,round)=(0,conv1.weight,2)\n",
      "INFO:appfl.protos.server:[Servicer ID:  01] Received TensorRequest from (client,name,round)=(0,conv1.bias,2)\n",
      "INFO:appfl.protos.server:[Servicer ID:  01] Received TensorRequest from (client,name,round)=(0,conv2.weight,2)\n",
      "INFO:appfl.protos.server:[Servicer ID:  01] Received TensorRequest from (client,name,round)=(0,conv2.bias,2)\n",
      "INFO:appfl.protos.server:[Servicer ID:  01] Received TensorRequest from (client,name,round)=(0,fc1.weight,2)\n",
      "INFO:appfl.protos.server:[Servicer ID:  01] Received TensorRequest from (client,name,round)=(0,fc1.bias,2)\n",
      "INFO:appfl.protos.server:[Servicer ID:  01] Received TensorRequest from (client,name,round)=(0,fc2.weight,2)\n",
      "INFO:appfl.protos.server:[Servicer ID:  01] Received TensorRequest from (client,name,round)=(0,fc2.bias,2)\n"
     ]
    }
   ],
   "source": [
    "grpc_server.run_server(cfg, model, num_clients, test_dataset)"
   ]
  }
 ],
 "metadata": {
  "interpreter": {
   "hash": "d5a3775820edfef7d27663833b7a57b274657051daef716a62aaac9a7002010d"
  },
  "kernelspec": {
   "display_name": "Python 3.8.12 64-bit ('appfl-dev': conda)",
   "language": "python",
   "name": "python3"
  },
  "language_info": {
   "codemirror_mode": {
    "name": "ipython",
    "version": 3
   },
   "file_extension": ".py",
   "mimetype": "text/x-python",
   "name": "python",
   "nbconvert_exporter": "python",
   "pygments_lexer": "ipython3",
   "version": "3.8.12"
  },
  "orig_nbformat": 4
 },
 "nbformat": 4,
 "nbformat_minor": 2
}

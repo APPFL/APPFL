{
 "cells": [
  {
   "cell_type": "code",
   "execution_count": 1,
   "id": "bc9bcedc-7ab1-49d7-acfb-1f0ecbb0718c",
   "metadata": {},
   "outputs": [],
   "source": [
    "import appfl"
   ]
  },
  {
   "cell_type": "code",
   "execution_count": 1,
   "id": "15b4eec9-f459-4cff-bf0f-6f6d5918083d",
   "metadata": {},
   "outputs": [
    {
     "name": "stderr",
     "output_type": "stream",
     "text": [
      "\u001b[34m\u001b[1mappfl: ✅\u001b[0m[2025-09-10 21:45:25,681 server]: Logging to ./output/custom_federated_result_Server_2025-09-10-21-45-25.txt\n",
      "\u001b[34m\u001b[1mappfl: ✅\u001b[0m[2025-09-10 21:45:26,469 Client1]: Logging to ./output/custom_federated_result_Client1_2025-09-10-21-45-26.txt\n"
     ]
    },
    {
     "name": "stdout",
     "output_type": "stream",
     "text": [
      "Dataset partitioned using iid\n",
      "Number of clients: 4\n",
      "Client 0 class distribution: {0: 1496, 1: 1690, 2: 1462, 3: 1548, 4: 1468, 5: 1318, 6: 1490, 7: 1593, 8: 1432, 9: 1503}\n"
     ]
    },
    {
     "name": "stderr",
     "output_type": "stream",
     "text": [
      "\u001b[34m\u001b[1mappfl: ✅\u001b[0m[2025-09-10 21:45:45,519 Client2]: Logging to ./output/custom_federated_result_Client2_2025-09-10-21-45-45.txt\n",
      "\u001b[34m\u001b[1mappfl: ✅\u001b[0m[2025-09-10 21:46:03,187 Client3]: Logging to ./output/custom_federated_result_Client3_2025-09-10-21-46-03.txt\n",
      "\u001b[34m\u001b[1mappfl: ✅\u001b[0m[2025-09-10 21:46:21,854 Client4]: Logging to ./output/custom_federated_result_Client4_2025-09-10-21-46-21.txt\n",
      "\u001b[34m\u001b[1mappfl: ✅\u001b[0m[2025-09-10 21:46:41,114 Client1]:      Round       Time Train Loss Train Accuracy\n",
      "\u001b[34m\u001b[1mappfl: ✅\u001b[0m[2025-09-10 21:46:41,514 Client1]:          0     0.3979     0.0488         0.1187\n",
      "\u001b[34m\u001b[1mappfl: ✅\u001b[0m[2025-09-10 21:46:41,770 Client2]:      Round       Time Train Loss Train Accuracy\n",
      "\u001b[34m\u001b[1mappfl: ✅\u001b[0m[2025-09-10 21:46:41,858 Client2]:          0     0.0860     0.0485         0.1500\n",
      "\u001b[34m\u001b[1mappfl: ✅\u001b[0m[2025-09-10 21:46:42,125 Client3]:      Round       Time Train Loss Train Accuracy\n",
      "\u001b[34m\u001b[1mappfl: ✅\u001b[0m[2025-09-10 21:46:42,222 Client3]:          0     0.0926     0.0489         0.1531\n",
      "\u001b[34m\u001b[1mappfl: ✅\u001b[0m[2025-09-10 21:46:42,456 Client4]:      Round       Time Train Loss Train Accuracy\n",
      "\u001b[34m\u001b[1mappfl: ✅\u001b[0m[2025-09-10 21:46:42,553 Client4]:          0     0.0922     0.0482         0.1500\n",
      "\u001b[34m\u001b[1mappfl: ✅\u001b[0m[2025-09-10 21:46:43,394 Client1]:          1     0.3326     0.2997         0.6263\n",
      "\u001b[34m\u001b[1mappfl: ✅\u001b[0m[2025-09-10 21:46:44,610 Client2]:          1     0.5474     0.3883         0.7437\n",
      "\u001b[34m\u001b[1mappfl: ✅\u001b[0m[2025-09-10 21:46:45,474 Client3]:          1     0.5109     0.4164         0.7070\n",
      "\u001b[34m\u001b[1mappfl: ✅\u001b[0m[2025-09-10 21:46:49,111 Client4]:          1     0.5481     0.4066         0.7370\n",
      "\u001b[34m\u001b[1mappfl: ✅\u001b[0m[2025-09-10 21:46:50,266 Client1]:          2     0.3112     0.0855         0.9003\n",
      "\u001b[34m\u001b[1mappfl: ✅\u001b[0m[2025-09-10 21:46:51,442 Client2]:          2     0.4862     0.1374         0.9082\n",
      "\u001b[34m\u001b[1mappfl: ✅\u001b[0m[2025-09-10 21:46:52,268 Client3]:          2     0.4122     0.1281         0.9052\n",
      "\u001b[34m\u001b[1mappfl: ✅\u001b[0m[2025-09-10 21:46:55,825 Client4]:          2     0.3681     0.0991         0.9031\n",
      "\u001b[34m\u001b[1mappfl: ✅\u001b[0m[2025-09-10 21:46:56,951 Client1]:          3     0.3171     0.0569         0.9330\n",
      "\u001b[34m\u001b[1mappfl: ✅\u001b[0m[2025-09-10 21:46:58,126 Client2]:          3     0.4927     0.0876         0.9411\n",
      "\u001b[34m\u001b[1mappfl: ✅\u001b[0m[2025-09-10 21:46:58,935 Client3]:          3     0.4017     0.0791         0.9331\n",
      "\u001b[34m\u001b[1mappfl: ✅\u001b[0m[2025-09-10 21:47:02,402 Client4]:          3     0.2691     0.0451         0.9369\n",
      "\u001b[34m\u001b[1mappfl: ✅\u001b[0m[2025-09-10 21:47:03,490 Client1]:          4     0.3022     0.0441         0.9474\n",
      "\u001b[34m\u001b[1mappfl: ✅\u001b[0m[2025-09-10 21:47:04,647 Client2]:          4     0.4593     0.0646         0.9526\n",
      "\u001b[34m\u001b[1mappfl: ✅\u001b[0m[2025-09-10 21:47:05,482 Client3]:          4     0.3940     0.0549         0.9508\n",
      "\u001b[34m\u001b[1mappfl: ✅\u001b[0m[2025-09-10 21:47:08,894 Client4]:          4     0.2064     0.0301         0.9524\n",
      "\u001b[34m\u001b[1mappfl: ✅\u001b[0m[2025-09-10 21:47:09,952 Client1]:          5     0.2859     0.0363         0.9574\n",
      "\u001b[34m\u001b[1mappfl: ✅\u001b[0m[2025-09-10 21:47:11,106 Client2]:          5     0.4393     0.0566         0.9602\n",
      "\u001b[34m\u001b[1mappfl: ✅\u001b[0m[2025-09-10 21:47:11,945 Client3]:          5     0.3776     0.0470         0.9561\n",
      "\u001b[34m\u001b[1mappfl: ✅\u001b[0m[2025-09-10 21:47:15,338 Client4]:          5     0.1710     0.0223         0.9507\n",
      "\u001b[34m\u001b[1mappfl: ✅\u001b[0m[2025-09-10 21:47:16,416 Client1]:          6     0.2874     0.0353         0.9572\n",
      "\u001b[34m\u001b[1mappfl: ✅\u001b[0m[2025-09-10 21:47:17,550 Client2]:          6     0.4216     0.0464         0.9650\n",
      "\u001b[34m\u001b[1mappfl: ✅\u001b[0m[2025-09-10 21:47:18,388 Client3]:          6     0.3588     0.0445         0.9605\n",
      "\u001b[34m\u001b[1mappfl: ✅\u001b[0m[2025-09-10 21:47:21,793 Client4]:          6     0.1642     0.0171         0.9630\n",
      "\u001b[34m\u001b[1mappfl: ✅\u001b[0m[2025-09-10 21:47:22,859 Client1]:          7     0.2931     0.0319         0.9628\n",
      "\u001b[34m\u001b[1mappfl: ✅\u001b[0m[2025-09-10 21:47:24,006 Client2]:          7     0.4396     0.0451         0.9668\n",
      "\u001b[34m\u001b[1mappfl: ✅\u001b[0m[2025-09-10 21:47:24,842 Client3]:          7     0.3745     0.0383         0.9651\n",
      "\u001b[34m\u001b[1mappfl: ✅\u001b[0m[2025-09-10 21:47:28,228 Client4]:          7     0.1609     0.0141         0.9688\n",
      "\u001b[34m\u001b[1mappfl: ✅\u001b[0m[2025-09-10 21:47:29,276 Client1]:          8     0.2823     0.0288         0.9663\n",
      "\u001b[34m\u001b[1mappfl: ✅\u001b[0m[2025-09-10 21:47:30,436 Client2]:          8     0.4409     0.0391         0.9705\n",
      "\u001b[34m\u001b[1mappfl: ✅\u001b[0m[2025-09-10 21:47:31,255 Client3]:          8     0.3590     0.0339         0.9714\n",
      "\u001b[34m\u001b[1mappfl: ✅\u001b[0m[2025-09-10 21:47:34,644 Client4]:          8     0.1473     0.0165         0.9662\n",
      "\u001b[34m\u001b[1mappfl: ✅\u001b[0m[2025-09-10 21:47:35,724 Client1]:          9     0.3010     0.0303         0.9628\n",
      "\u001b[34m\u001b[1mappfl: ✅\u001b[0m[2025-09-10 21:47:36,870 Client2]:          9     0.4477     0.0364         0.9743\n",
      "\u001b[34m\u001b[1mappfl: ✅\u001b[0m[2025-09-10 21:47:37,688 Client3]:          9     0.3652     0.0329         0.9694\n",
      "\u001b[34m\u001b[1mappfl: ✅\u001b[0m[2025-09-10 21:47:41,075 Client4]:          9     0.1521     0.0124         0.9750\n",
      "\u001b[34m\u001b[1mappfl: ✅\u001b[0m[2025-09-10 21:47:42,158 Client1]:         10     0.3073     0.0278         0.9652\n",
      "\u001b[34m\u001b[1mappfl: ✅\u001b[0m[2025-09-10 21:47:43,302 Client2]:         10     0.4511     0.0366         0.9732\n",
      "\u001b[34m\u001b[1mappfl: ✅\u001b[0m[2025-09-10 21:47:44,112 Client3]:         10     0.3602     0.0310         0.9714\n",
      "\u001b[34m\u001b[1mappfl: ✅\u001b[0m[2025-09-10 21:47:47,512 Client4]:         10     0.1596     0.0130         0.9682\n",
      "\u001b[34m\u001b[1mappfl: ✅\u001b[0m[2025-09-10 21:47:48,590 Client1]:         11     0.3073     0.0267         0.9728\n",
      "\u001b[34m\u001b[1mappfl: ✅\u001b[0m[2025-09-10 21:47:49,714 Client2]:         11     0.4310     0.0353         0.9737\n",
      "\u001b[34m\u001b[1mappfl: ✅\u001b[0m[2025-09-10 21:47:50,529 Client3]:         11     0.3456     0.0311         0.9726\n",
      "\u001b[34m\u001b[1mappfl: ✅\u001b[0m[2025-09-10 21:47:53,936 Client4]:         11     0.1533     0.0149         0.9693\n",
      "\u001b[34m\u001b[1mappfl: ✅\u001b[0m[2025-09-10 21:47:55,020 Client1]:         12     0.3040     0.0228         0.9731\n",
      "\u001b[34m\u001b[1mappfl: ✅\u001b[0m[2025-09-10 21:47:56,137 Client2]:         12     0.4208     0.0290         0.9797\n",
      "\u001b[34m\u001b[1mappfl: ✅\u001b[0m[2025-09-10 21:47:56,965 Client3]:         12     0.3486     0.0275         0.9750\n",
      "\u001b[34m\u001b[1mappfl: ✅\u001b[0m[2025-09-10 21:48:00,370 Client4]:         12     0.1528     0.0152         0.9641\n",
      "\u001b[34m\u001b[1mappfl: ✅\u001b[0m[2025-09-10 21:48:01,428 Client1]:         13     0.2865     0.0175         0.9776\n",
      "\u001b[34m\u001b[1mappfl: ✅\u001b[0m[2025-09-10 21:48:02,573 Client2]:         13     0.4314     0.0320         0.9789\n",
      "\u001b[34m\u001b[1mappfl: ✅\u001b[0m[2025-09-10 21:48:03,412 Client3]:         13     0.3690     0.0305         0.9724\n",
      "\u001b[34m\u001b[1mappfl: ✅\u001b[0m[2025-09-10 21:48:06,796 Client4]:         13     0.1540     0.0118         0.9745\n",
      "\u001b[34m\u001b[1mappfl: ✅\u001b[0m[2025-09-10 21:48:07,840 Client1]:         14     0.2795     0.0218         0.9758\n",
      "\u001b[34m\u001b[1mappfl: ✅\u001b[0m[2025-09-10 21:48:09,001 Client2]:         14     0.4388     0.0290         0.9795\n",
      "\u001b[34m\u001b[1mappfl: ✅\u001b[0m[2025-09-10 21:48:09,819 Client3]:         14     0.3568     0.0238         0.9789\n",
      "\u001b[34m\u001b[1mappfl: ✅\u001b[0m[2025-09-10 21:48:13,219 Client4]:         14     0.1568     0.0105         0.9760\n",
      "\u001b[34m\u001b[1mappfl: ✅\u001b[0m[2025-09-10 21:48:14,274 Client1]:         15     0.2956     0.0185         0.9801\n",
      "\u001b[34m\u001b[1mappfl: ✅\u001b[0m[2025-09-10 21:48:15,403 Client2]:         15     0.4241     0.0281         0.9794\n",
      "\u001b[34m\u001b[1mappfl: ✅\u001b[0m[2025-09-10 21:48:16,232 Client3]:         15     0.3523     0.0247         0.9799\n",
      "\u001b[34m\u001b[1mappfl: ✅\u001b[0m[2025-09-10 21:48:19,631 Client4]:         15     0.1517     0.0070         0.9859\n",
      "\u001b[34m\u001b[1mappfl: ✅\u001b[0m[2025-09-10 21:48:20,694 Client1]:         16     0.3003     0.0193         0.9774\n",
      "\u001b[34m\u001b[1mappfl: ✅\u001b[0m[2025-09-10 21:48:21,822 Client2]:         16     0.4283     0.0251         0.9823\n",
      "\u001b[34m\u001b[1mappfl: ✅\u001b[0m[2025-09-10 21:48:22,638 Client3]:         16     0.3435     0.0249         0.9773\n",
      "\u001b[34m\u001b[1mappfl: ✅\u001b[0m[2025-09-10 21:48:26,046 Client4]:         16     0.1514     0.0124         0.9766\n",
      "\u001b[34m\u001b[1mappfl: ✅\u001b[0m[2025-09-10 21:48:27,117 Client1]:         17     0.2878     0.0180         0.9782\n",
      "\u001b[34m\u001b[1mappfl: ✅\u001b[0m[2025-09-10 21:48:28,280 Client2]:         17     0.4511     0.0263         0.9815\n",
      "\u001b[34m\u001b[1mappfl: ✅\u001b[0m[2025-09-10 21:48:29,086 Client3]:         17     0.3565     0.0255         0.9779\n",
      "\u001b[34m\u001b[1mappfl: ✅\u001b[0m[2025-09-10 21:48:32,473 Client4]:         17     0.1438     0.0109         0.9755\n",
      "\u001b[34m\u001b[1mappfl: ✅\u001b[0m[2025-09-10 21:48:33,552 Client1]:         18     0.2889     0.0193         0.9779\n",
      "\u001b[34m\u001b[1mappfl: ✅\u001b[0m[2025-09-10 21:48:34,717 Client2]:         18     0.4534     0.0275         0.9792\n",
      "\u001b[34m\u001b[1mappfl: ✅\u001b[0m[2025-09-10 21:48:35,523 Client3]:         18     0.3595     0.0223         0.9783\n",
      "\u001b[34m\u001b[1mappfl: ✅\u001b[0m[2025-09-10 21:48:38,906 Client4]:         18     0.1428     0.0106         0.9786\n",
      "\u001b[34m\u001b[1mappfl: ✅\u001b[0m[2025-09-10 21:48:40,118 Client1]:         19     0.2815     0.0156         0.9801\n",
      "\u001b[34m\u001b[1mappfl: ✅\u001b[0m[2025-09-10 21:48:41,257 Client2]:         19     0.4201     0.0257         0.9812\n",
      "\u001b[34m\u001b[1mappfl: ✅\u001b[0m[2025-09-10 21:48:42,110 Client3]:         19     0.3736     0.0226         0.9793\n",
      "\u001b[34m\u001b[1mappfl: ✅\u001b[0m[2025-09-10 21:48:45,490 Client4]:         19     0.1528     0.0096         0.9786\n",
      "\u001b[34m\u001b[1mappfl: ✅\u001b[0m[2025-09-10 21:48:46,570 Client1]:         20     0.2854     0.0180         0.9793\n",
      "\u001b[34m\u001b[1mappfl: ✅\u001b[0m[2025-09-10 21:48:47,725 Client2]:         20     0.4403     0.0268         0.9807\n",
      "\u001b[34m\u001b[1mappfl: ✅\u001b[0m[2025-09-10 21:48:48,559 Client3]:         20     0.3739     0.0222         0.9813\n",
      "\u001b[34m\u001b[1mappfl: ✅\u001b[0m[2025-09-10 21:48:51,929 Client4]:         20     0.1436     0.0070         0.9833\n",
      "\u001b[34m\u001b[1mappfl: ✅\u001b[0m[2025-09-10 21:48:53,206 Client1]:         21     0.3102     0.0181         0.9784\n",
      "\u001b[34m\u001b[1mappfl: ✅\u001b[0m[2025-09-10 21:48:54,324 Client2]:         21     0.4287     0.0238         0.9841\n",
      "\u001b[34m\u001b[1mappfl: ✅\u001b[0m[2025-09-10 21:48:55,162 Client3]:         21     0.3663     0.0216         0.9807\n",
      "\u001b[34m\u001b[1mappfl: ✅\u001b[0m[2025-09-10 21:48:58,547 Client4]:         21     0.1511     0.0078         0.9828\n",
      "\u001b[34m\u001b[1mappfl: ✅\u001b[0m[2025-09-10 21:48:59,606 Client1]:         22     0.2922     0.0197         0.9811\n",
      "\u001b[34m\u001b[1mappfl: ✅\u001b[0m[2025-09-10 21:49:00,747 Client2]:         22     0.4342     0.0247         0.9827\n",
      "\u001b[34m\u001b[1mappfl: ✅\u001b[0m[2025-09-10 21:49:01,571 Client3]:         22     0.3575     0.0226         0.9801\n",
      "\u001b[34m\u001b[1mappfl: ✅\u001b[0m[2025-09-10 21:49:04,956 Client4]:         22     0.1428     0.0089         0.9807\n",
      "\u001b[34m\u001b[1mappfl: ✅\u001b[0m[2025-09-10 21:49:06,001 Client1]:         23     0.2786     0.0175         0.9828\n",
      "\u001b[34m\u001b[1mappfl: ✅\u001b[0m[2025-09-10 21:49:07,167 Client2]:         23     0.4436     0.0195         0.9866\n",
      "\u001b[34m\u001b[1mappfl: ✅\u001b[0m[2025-09-10 21:49:07,973 Client3]:         23     0.3498     0.0186         0.9838\n",
      "\u001b[34m\u001b[1mappfl: ✅\u001b[0m[2025-09-10 21:49:11,376 Client4]:         23     0.1523     0.0096         0.9771\n",
      "\u001b[34m\u001b[1mappfl: ✅\u001b[0m[2025-09-10 21:49:12,514 Client1]:         24     0.3131     0.0156         0.9825\n",
      "\u001b[34m\u001b[1mappfl: ✅\u001b[0m[2025-09-10 21:49:13,662 Client2]:         24     0.4605     0.0227         0.9838\n",
      "\u001b[34m\u001b[1mappfl: ✅\u001b[0m[2025-09-10 21:49:14,453 Client3]:         24     0.3520     0.0218         0.9787\n",
      "\u001b[34m\u001b[1mappfl: ✅\u001b[0m[2025-09-10 21:49:17,853 Client4]:         24     0.1517     0.0122         0.9750\n",
      "\u001b[34m\u001b[1mappfl: ✅\u001b[0m[2025-09-10 21:49:18,914 Client1]:         25     0.2976     0.0142         0.9841\n",
      "\u001b[34m\u001b[1mappfl: ✅\u001b[0m[2025-09-10 21:49:20,052 Client2]:         25     0.4348     0.0222         0.9840\n",
      "\u001b[34m\u001b[1mappfl: ✅\u001b[0m[2025-09-10 21:49:20,870 Client3]:         25     0.3528     0.0204         0.9832\n",
      "\u001b[34m\u001b[1mappfl: ✅\u001b[0m[2025-09-10 21:49:24,268 Client4]:         25     0.1509     0.0081         0.9781\n",
      "\u001b[34m\u001b[1mappfl: ✅\u001b[0m[2025-09-10 21:49:25,327 Client1]:         26     0.2937     0.0156         0.9811\n",
      "\u001b[34m\u001b[1mappfl: ✅\u001b[0m[2025-09-10 21:49:26,472 Client2]:         26     0.4387     0.0232         0.9845\n",
      "\u001b[34m\u001b[1mappfl: ✅\u001b[0m[2025-09-10 21:49:27,291 Client3]:         26     0.3570     0.0197         0.9821\n",
      "\u001b[34m\u001b[1mappfl: ✅\u001b[0m[2025-09-10 21:49:30,686 Client4]:         26     0.1517     0.0087         0.9844\n",
      "\u001b[34m\u001b[1mappfl: ✅\u001b[0m[2025-09-10 21:49:31,758 Client1]:         27     0.3038     0.0148         0.9811\n",
      "\u001b[34m\u001b[1mappfl: ✅\u001b[0m[2025-09-10 21:49:32,903 Client2]:         27     0.4484     0.0214         0.9840\n",
      "\u001b[34m\u001b[1mappfl: ✅\u001b[0m[2025-09-10 21:49:33,726 Client3]:         27     0.3716     0.0207         0.9805\n",
      "\u001b[34m\u001b[1mappfl: ✅\u001b[0m[2025-09-10 21:49:37,108 Client4]:         27     0.1531     0.0106         0.9766\n",
      "\u001b[34m\u001b[1mappfl: ✅\u001b[0m[2025-09-10 21:49:38,192 Client1]:         28     0.3121     0.0142         0.9841\n",
      "\u001b[34m\u001b[1mappfl: ✅\u001b[0m[2025-09-10 21:49:39,340 Client2]:         28     0.4602     0.0228         0.9838\n",
      "\u001b[34m\u001b[1mappfl: ✅\u001b[0m[2025-09-10 21:49:40,152 Client3]:         28     0.3718     0.0164         0.9840\n",
      "\u001b[34m\u001b[1mappfl: ✅\u001b[0m[2025-09-10 21:49:43,532 Client4]:         28     0.1517     0.0076         0.9812\n"
     ]
    },
    {
     "ename": "KeyboardInterrupt",
     "evalue": "",
     "output_type": "error",
     "traceback": [
      "\u001b[0;31m---------------------------------------------------------------------------\u001b[0m",
      "\u001b[0;31mKeyboardInterrupt\u001b[0m                         Traceback (most recent call last)",
      "File \u001b[0;32m/global/u2/e/edey/Async_FL/QFL/main.py:37\u001b[0m\n\u001b[1;32m     34\u001b[0m     runner\u001b[38;5;241m.\u001b[39mrun()\n\u001b[1;32m     36\u001b[0m \u001b[38;5;28;01mif\u001b[39;00m \u001b[38;5;18m__name__\u001b[39m \u001b[38;5;241m==\u001b[39m \u001b[38;5;124m\"\u001b[39m\u001b[38;5;124m__main__\u001b[39m\u001b[38;5;124m\"\u001b[39m:\n\u001b[0;32m---> 37\u001b[0m     \u001b[43mmain\u001b[49m\u001b[43m(\u001b[49m\u001b[43m)\u001b[49m\n",
      "File \u001b[0;32m/global/u2/e/edey/Async_FL/QFL/main.py:34\u001b[0m, in \u001b[0;36mmain\u001b[0;34m()\u001b[0m\n\u001b[1;32m     32\u001b[0m AlgoCls \u001b[38;5;241m=\u001b[39m ALGO_REGISTRY[algo_name]\n\u001b[1;32m     33\u001b[0m runner \u001b[38;5;241m=\u001b[39m AlgoCls(cfg\u001b[38;5;241m=\u001b[39mcfg, server\u001b[38;5;241m=\u001b[39mserver, clients\u001b[38;5;241m=\u001b[39mclients, client_ids\u001b[38;5;241m=\u001b[39mclient_ids, override_steps\u001b[38;5;241m=\u001b[39margs\u001b[38;5;241m.\u001b[39msteps)\n\u001b[0;32m---> 34\u001b[0m \u001b[43mrunner\u001b[49m\u001b[38;5;241;43m.\u001b[39;49m\u001b[43mrun\u001b[49m\u001b[43m(\u001b[49m\u001b[43m)\u001b[49m\n",
      "File \u001b[0;32m/global/u2/e/edey/Async_FL/QFL/algorithms/queue_async.py:130\u001b[0m, in \u001b[0;36mQueueAsyncFL.run\u001b[0;34m(self)\u001b[0m\n\u001b[1;32m    121\u001b[0m         c \u001b[38;5;241m=\u001b[39m clients[cid]; ensure_client_ready(c)\n\u001b[1;32m    122\u001b[0m         futs\u001b[38;5;241m.\u001b[39mappend(ex\u001b[38;5;241m.\u001b[39msubmit(\n\u001b[1;32m    123\u001b[0m             run_client_one_round,\n\u001b[1;32m    124\u001b[0m             cid, i, c, g0,\n\u001b[0;32m   (...)\u001b[0m\n\u001b[1;32m    128\u001b[0m             q_comm_map[cid],\n\u001b[1;32m    129\u001b[0m         ))\n\u001b[0;32m--> 130\u001b[0m \u001b[43m    \u001b[49m\u001b[38;5;28;43;01mfor\u001b[39;49;00m\u001b[43m \u001b[49m\u001b[43mfut\u001b[49m\u001b[43m \u001b[49m\u001b[38;5;129;43;01min\u001b[39;49;00m\u001b[43m \u001b[49m\u001b[43mas_completed\u001b[49m\u001b[43m(\u001b[49m\u001b[43mfuts\u001b[49m\u001b[43m)\u001b[49m\u001b[43m:\u001b[49m\n\u001b[1;32m    131\u001b[0m \u001b[43m        \u001b[49m\u001b[43mresults\u001b[49m\u001b[38;5;241;43m.\u001b[39;49m\u001b[43mappend\u001b[49m\u001b[43m(\u001b[49m\u001b[43mfut\u001b[49m\u001b[38;5;241;43m.\u001b[39;49m\u001b[43mresult\u001b[49m\u001b[43m(\u001b[49m\u001b[43m)\u001b[49m\u001b[43m)\u001b[49m\n\u001b[1;32m    133\u001b[0m \u001b[38;5;66;03m# admission by relaxed horizon and q_hat update\u001b[39;00m\n",
      "File \u001b[0;32m/global/common/software/nersc9/pytorch/2.6.0/lib/python3.12/concurrent/futures/_base.py:243\u001b[0m, in \u001b[0;36mas_completed\u001b[0;34m(fs, timeout)\u001b[0m\n\u001b[1;32m    238\u001b[0m     \u001b[38;5;28;01mif\u001b[39;00m wait_timeout \u001b[38;5;241m<\u001b[39m \u001b[38;5;241m0\u001b[39m:\n\u001b[1;32m    239\u001b[0m         \u001b[38;5;28;01mraise\u001b[39;00m \u001b[38;5;167;01mTimeoutError\u001b[39;00m(\n\u001b[1;32m    240\u001b[0m                 \u001b[38;5;124m'\u001b[39m\u001b[38;5;132;01m%d\u001b[39;00m\u001b[38;5;124m (of \u001b[39m\u001b[38;5;132;01m%d\u001b[39;00m\u001b[38;5;124m) futures unfinished\u001b[39m\u001b[38;5;124m'\u001b[39m \u001b[38;5;241m%\u001b[39m (\n\u001b[1;32m    241\u001b[0m                 \u001b[38;5;28mlen\u001b[39m(pending), total_futures))\n\u001b[0;32m--> 243\u001b[0m \u001b[43mwaiter\u001b[49m\u001b[38;5;241;43m.\u001b[39;49m\u001b[43mevent\u001b[49m\u001b[38;5;241;43m.\u001b[39;49m\u001b[43mwait\u001b[49m\u001b[43m(\u001b[49m\u001b[43mwait_timeout\u001b[49m\u001b[43m)\u001b[49m\n\u001b[1;32m    245\u001b[0m \u001b[38;5;28;01mwith\u001b[39;00m waiter\u001b[38;5;241m.\u001b[39mlock:\n\u001b[1;32m    246\u001b[0m     finished \u001b[38;5;241m=\u001b[39m waiter\u001b[38;5;241m.\u001b[39mfinished_futures\n",
      "File \u001b[0;32m/global/common/software/nersc9/pytorch/2.6.0/lib/python3.12/threading.py:655\u001b[0m, in \u001b[0;36mEvent.wait\u001b[0;34m(self, timeout)\u001b[0m\n\u001b[1;32m    653\u001b[0m signaled \u001b[38;5;241m=\u001b[39m \u001b[38;5;28mself\u001b[39m\u001b[38;5;241m.\u001b[39m_flag\n\u001b[1;32m    654\u001b[0m \u001b[38;5;28;01mif\u001b[39;00m \u001b[38;5;129;01mnot\u001b[39;00m signaled:\n\u001b[0;32m--> 655\u001b[0m     signaled \u001b[38;5;241m=\u001b[39m \u001b[38;5;28;43mself\u001b[39;49m\u001b[38;5;241;43m.\u001b[39;49m\u001b[43m_cond\u001b[49m\u001b[38;5;241;43m.\u001b[39;49m\u001b[43mwait\u001b[49m\u001b[43m(\u001b[49m\u001b[43mtimeout\u001b[49m\u001b[43m)\u001b[49m\n\u001b[1;32m    656\u001b[0m \u001b[38;5;28;01mreturn\u001b[39;00m signaled\n",
      "File \u001b[0;32m/global/common/software/nersc9/pytorch/2.6.0/lib/python3.12/threading.py:355\u001b[0m, in \u001b[0;36mCondition.wait\u001b[0;34m(self, timeout)\u001b[0m\n\u001b[1;32m    353\u001b[0m \u001b[38;5;28;01mtry\u001b[39;00m:    \u001b[38;5;66;03m# restore state no matter what (e.g., KeyboardInterrupt)\u001b[39;00m\n\u001b[1;32m    354\u001b[0m     \u001b[38;5;28;01mif\u001b[39;00m timeout \u001b[38;5;129;01mis\u001b[39;00m \u001b[38;5;28;01mNone\u001b[39;00m:\n\u001b[0;32m--> 355\u001b[0m         \u001b[43mwaiter\u001b[49m\u001b[38;5;241;43m.\u001b[39;49m\u001b[43macquire\u001b[49m\u001b[43m(\u001b[49m\u001b[43m)\u001b[49m\n\u001b[1;32m    356\u001b[0m         gotit \u001b[38;5;241m=\u001b[39m \u001b[38;5;28;01mTrue\u001b[39;00m\n\u001b[1;32m    357\u001b[0m     \u001b[38;5;28;01melse\u001b[39;00m:\n",
      "\u001b[0;31mKeyboardInterrupt\u001b[0m: "
     ]
    }
   ],
   "source": [
    "%run main.py --config configs/queue_case2.yaml"
   ]
  },
  {
   "cell_type": "code",
   "execution_count": 6,
   "id": "b456257e-9b40-4abc-8431-31af78463d2c",
   "metadata": {},
   "outputs": [],
   "source": [
    "from appfl.algorithm.aggregator.fedavg_aggregator import FedAvgAggregator as _APPFLFedAvg"
   ]
  },
  {
   "cell_type": "code",
   "execution_count": null,
   "id": "4feedc5b-b21f-4771-a47d-72dd13598ea1",
   "metadata": {},
   "outputs": [],
   "source": []
  }
 ],
 "metadata": {
  "kernelspec": {
   "display_name": "pytorch-2.6.0",
   "language": "python",
   "name": "pytorch-2.6.0"
  },
  "language_info": {
   "codemirror_mode": {
    "name": "ipython",
    "version": 3
   },
   "file_extension": ".py",
   "mimetype": "text/x-python",
   "name": "python",
   "nbconvert_exporter": "python",
   "pygments_lexer": "ipython3",
   "version": "3.12.9"
  }
 },
 "nbformat": 4,
 "nbformat_minor": 5
}
